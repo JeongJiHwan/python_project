{
 "cells": [
  {
   "cell_type": "markdown",
   "metadata": {},
   "source": [
    "# HW3\n",
    "### 문제12)\n",
    "“done“을 입력할 때까지 사용자로부터 숫자를 입력 받아  \n",
    "리스트에 저장하고, “done“을 입력하면, 리스트의 평균,  \n",
    "최대값과 최소값을 출력하는 프로그램을 작성하시오.  \n",
    "(힌트) sum(), max(), min() 함수를 사용  \n",
    "Enter a number: 7  \n",
    "Enter a number: 2  \n",
    "Enter a number: 9  \n",
    "Enter a number: 3  \n",
    "Enter a number: 5  \n",
    "Enter a number: done  \n",
    "[7.0, 2.0, 9.0, 3.0, 5.0]  \n",
    "Average: 5.2  \n",
    "Maximum: 9.0  \n",
    "Minimum: 2.0  "
   ]
  },
  {
   "cell_type": "code",
   "execution_count": 6,
   "metadata": {},
   "outputs": [
    {
     "name": "stdout",
     "output_type": "stream",
     "text": [
      "Enter a number : 1\n",
      "Enter a number : 2\n",
      "Enter a number : 3\n",
      "Enter a number : 4\n",
      "Enter a number : 5\n",
      "Enter a number : 6\n",
      "Enter a number : 7\n",
      "Enter a number : 8\n",
      "Enter a number : 9\n",
      "Enter a number : done\n",
      "[1.0, 2.0, 3.0, 4.0, 5.0, 6.0, 7.0, 8.0, 9.0]\n",
      "Average : 5.0\n",
      "Maximum : 9.0\n",
      "Minimum : 1.0\n"
     ]
    }
   ],
   "source": [
    "result = []\n",
    "while True:\n",
    "    number = input('Enter a number : ')\n",
    "    \n",
    "    if number == 'done':\n",
    "        break;\n",
    "    else:\n",
    "        result.append(float(number))\n",
    "        \n",
    "print(result)\n",
    "print('Average :', (sum(result)/len(result)))\n",
    "print('Maximum :', max(result))\n",
    "print('Minimum :', min(result))   "
   ]
  },
  {
   "cell_type": "markdown",
   "metadata": {},
   "source": [
    "## 1.dict\n",
    "### 실습1)\n",
    "for 문을 사용하여 딕셔너리 타입의 d의 모든  \n",
    "value를 출력해 보시오.  \n"
   ]
  },
  {
   "cell_type": "code",
   "execution_count": 1,
   "metadata": {},
   "outputs": [
    {
     "name": "stdout",
     "output_type": "stream",
     "text": [
      "1 2 10 "
     ]
    }
   ],
   "source": [
    "d = {'youn': 1, 'park': 2, 'kim': 10}\n",
    "\n",
    "for item in d:\n",
    "    print(d[item], end=' ')"
   ]
  },
  {
   "cell_type": "markdown",
   "metadata": {},
   "source": [
    "### 실습2)\n",
    "아래와 같은 딕셔너리가 있다.  \n",
    "{'one':1, 'two':2, 'three':3, 'four':4, 'five':5}  \n",
    "key의 알파벳을 기준으로 순서대로 아래와 같이 (key,\n",
    "value)로 출력하시오.\n",
    "five 5  \n",
    "four 4  \n",
    "one 1  \n",
    "three 3  \n",
    "two 2  "
   ]
  },
  {
   "cell_type": "code",
   "execution_count": 2,
   "metadata": {},
   "outputs": [
    {
     "name": "stdout",
     "output_type": "stream",
     "text": [
      "five 5\n",
      "four 4\n",
      "one 1\n",
      "three 3\n",
      "two 2\n"
     ]
    }
   ],
   "source": [
    "d = {'one':1, 'two':2, 'three':3, 'four':4, 'five':5}\n",
    "\n",
    "key_list = list(d.keys())\n",
    "key_list.sort()\n",
    "\n",
    "for key in key_list:\n",
    "    print(key, d[key])\n"
   ]
  },
  {
   "cell_type": "markdown",
   "metadata": {},
   "source": [
    "### 실습3)\n",
    "어떤 문장을 입력 받으면 해당 문장에서 각 알파벳이  \n",
    "몇 개씩 나오는지 저장하는 딕셔너리를 만든 후, 아래와  \n",
    "같이 출력하시오  \n",
    "\n",
    "Enter a sentence: Python is fun!  \n",
    "{'!': 1, ' ': 2, 'f': 1, 'i': 1, 'h': 1, 'o': 1, 'n': 2,  \n",
    "'P': 1, 's': 1, 'u': 1, 't': 1, 'y': 1}  "
   ]
  },
  {
   "cell_type": "code",
   "execution_count": 3,
   "metadata": {},
   "outputs": [
    {
     "name": "stdout",
     "output_type": "stream",
     "text": [
      "Enter a sentence : python is fun\n",
      "{'p': 1, 'y': 1, 't': 1, 'h': 1, 'o': 1, 'n': 2, ' ': 2, 'i': 1, 's': 1, 'f': 1, 'u': 1}\n"
     ]
    }
   ],
   "source": [
    "sentence = input('Enter a sentence : ')\n",
    "\n",
    "dictionary = {}\n",
    "\n",
    "for char in sentence:\n",
    "    if char in dictionary:\n",
    "        dictionary[char] += 1\n",
    "    else:\n",
    "        dictionary[char] = 1\n",
    "print(dictionary)"
   ]
  },
  {
   "cell_type": "markdown",
   "metadata": {},
   "source": [
    "## 파일\n",
    "### 실습1)\n",
    "파일에 있는 각각의 단어 수 구하기"
   ]
  },
  {
   "cell_type": "code",
   "execution_count": 1,
   "metadata": {},
   "outputs": [
    {
     "name": "stdout",
     "output_type": "stream",
     "text": [
      "first 1\n",
      "line 3\n",
      "hello 1\n",
      "world 1\n",
      "second 1\n",
      "third 1\n"
     ]
    }
   ],
   "source": [
    "# 파일-실습1(PPT)\n",
    "#split() white space 단위로 구분\n",
    "#strip() 문자열 양 끝의 white space 제거\n",
    "#replace('s','d') s문자를 d로 대체\n",
    "fr = open('test.txt', 'r')\n",
    "d = {}\n",
    "for line in fr:\n",
    "    words = line.split()\n",
    "    for word in words:\n",
    "        if word in d:\n",
    "            d[word]+=1\n",
    "        else:\n",
    "            d[word]=1\n",
    "fr.close()\n",
    "\n",
    "for k,v in d.items():\n",
    "    print(k,v)"
   ]
  },
  {
   "cell_type": "markdown",
   "metadata": {},
   "source": [
    "### 실습4)\n",
    "아래의 score.txt를 읽어서 학생들의 성적을 처리\n",
    "하여 그 결과를 report.txt로 출력하는 프로그램을 작성하\n",
    "시오. "
   ]
  },
  {
   "cell_type": "code",
   "execution_count": 1,
   "metadata": {},
   "outputs": [],
   "source": [
    "def check_grade(total):\n",
    "    grade = ''\n",
    "    if total>=90:\n",
    "        grade='A'\n",
    "    elif total>=80:\n",
    "        grade='B'\n",
    "    elif total>=70:\n",
    "        grade='C'\n",
    "    elif total>=60:\n",
    "        grade='D'\n",
    "    else:\n",
    "        grade='F'\n",
    "    return grade\n",
    "\n",
    "fr = open('score.txt', 'r')\n",
    "student_list=[]\n",
    "for line in fr:\n",
    "    student_list.append(line.split())\n",
    "fr.close()\n",
    "\n",
    "for student in student_list:\n",
    "    num, mid, fin = student\n",
    "    \n",
    "    total = (int(mid)*0.4) + (int(fin)*0.6)\n",
    "    \n",
    "    grade = check_grade(total)\n",
    "    \n",
    "    student.append(total)\n",
    "    student.append(grade)\n",
    "    \n",
    "fw = open('report.txt', 'w')\n",
    "\n",
    "for student in student_list:\n",
    "    num, mid, fin, tot, grade = student\n",
    "    \n",
    "    fw.write('%s %s %s  %s(%s)\\n' %(num, mid, fin, tot, grade))\n",
    "\n",
    "fw.close()\n",
    "    "
   ]
  }
 ],
 "metadata": {
  "kernelspec": {
   "display_name": "Python 3",
   "language": "python",
   "name": "python3"
  },
  "language_info": {
   "codemirror_mode": {
    "name": "ipython",
    "version": 3
   },
   "file_extension": ".py",
   "mimetype": "text/x-python",
   "name": "python",
   "nbconvert_exporter": "python",
   "pygments_lexer": "ipython3",
   "version": "3.8.3"
  }
 },
 "nbformat": 4,
 "nbformat_minor": 4
}
