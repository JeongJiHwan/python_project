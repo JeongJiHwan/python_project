{
 "cells": [
  {
   "cell_type": "code",
   "execution_count": 27,
   "metadata": {},
   "outputs": [
    {
     "name": "stdout",
     "output_type": "stream",
     "text": [
      "1\n",
      "-1 -2 -3 -4 -5\n",
      "-1\n"
     ]
    }
   ],
   "source": [
    "T = int(input())\n",
    "for _ in range(T):\n",
    "    ls = list(map(int, input().split()))\n",
    "    \n",
    "    maxval = 0\n",
    "    total = 0\n",
    "    for i in ls[::-1]:\n",
    "        total += i\n",
    "        if total > maxval:\n",
    "            maxval = total\n",
    "        if total < 0:\n",
    "            total = 0\n",
    "    if max(ls)<0:\n",
    "        maxval = max(ls)\n",
    "    print(maxval)"
   ]
  }
 ],
 "metadata": {
  "kernelspec": {
   "display_name": "Python 3",
   "language": "python",
   "name": "python3"
  },
  "language_info": {
   "codemirror_mode": {
    "name": "ipython",
    "version": 3
   },
   "file_extension": ".py",
   "mimetype": "text/x-python",
   "name": "python",
   "nbconvert_exporter": "python",
   "pygments_lexer": "ipython3",
   "version": "3.8.3"
  }
 },
 "nbformat": 4,
 "nbformat_minor": 4
}
