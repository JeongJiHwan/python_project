{
 "cells": [
  {
   "cell_type": "code",
   "execution_count": 4,
   "metadata": {},
   "outputs": [
    {
     "name": "stdout",
     "output_type": "stream",
     "text": [
      "1\n",
      "5 340\n",
      "795 953\n",
      "41 206\n",
      "524 422\n",
      "985 574\n",
      "135 932\n",
      "583\n"
     ]
    }
   ],
   "source": [
    "T = int(input())\n",
    "\n",
    "for _ in range(T):\n",
    "    N,C = map(int, input().split())\n",
    "    ls = []\n",
    "    for i in range(N):\n",
    "        w,v = map(int, input().split())\n",
    "        d = w/v\n",
    "        ls.append((w,v,d))\n",
    "        \n",
    "    ls.sort(key=lambda e:e[2], reverse=True)\n",
    "    \n",
    "    maxval=0\n",
    "    limit = 0\n",
    "    idx = 0\n",
    "    while limit < C:\n",
    "        if limit + ls[idx][1] > C:\n",
    "            maxval += int(ls[idx][0] * ((C-limit) / ls[idx][1]))\n",
    "            limit = C\n",
    "        else:\n",
    "            maxval += ls[idx][0]\n",
    "            limit += ls[idx][1]\n",
    "        idx+=1\n",
    "    \n",
    "    print(maxval)"
   ]
  }
 ],
 "metadata": {
  "kernelspec": {
   "display_name": "Python 3",
   "language": "python",
   "name": "python3"
  },
  "language_info": {
   "codemirror_mode": {
    "name": "ipython",
    "version": 3
   },
   "file_extension": ".py",
   "mimetype": "text/x-python",
   "name": "python",
   "nbconvert_exporter": "python",
   "pygments_lexer": "ipython3",
   "version": "3.8.3"
  }
 },
 "nbformat": 4,
 "nbformat_minor": 4
}
