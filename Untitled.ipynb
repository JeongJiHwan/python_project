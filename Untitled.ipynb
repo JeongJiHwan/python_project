{
 "cells": [
  {
   "cell_type": "code",
   "execution_count": null,
   "metadata": {},
   "outputs": [
    {
     "name": "stdout",
     "output_type": "stream",
     "text": [
      "5\n",
      "()()\n",
      "YES\n",
      "({[}])\n",
      "NO\n",
      "({}[(){}])\n",
      "YES\n",
      "(({})\n",
      "NO\n"
     ]
    }
   ],
   "source": [
    "T = int(input())\n",
    "for _ in range(T):\n",
    "    G = input()\n",
    "    ans = []\n",
    "    check = True\n",
    "    for i in G:\n",
    "        if i in [\"(\", \"{\", \"[\"]:\n",
    "            ans.append(i)\n",
    "        elif i in [\")\", \"}\", \"]\"]:\n",
    "            if len(ans) == 0:\n",
    "                check = False\n",
    "                break\n",
    "            elif ans[-1]+i not in [\"()\", \"{}\", \"[]\"]:\n",
    "                check = False\n",
    "                break\n",
    "            elif ans[-1]+i in [\"()\", \"{}\", \"[]\"]:\n",
    "                ans.pop()\n",
    "\n",
    "    if ans:\n",
    "        check = False\n",
    "        \n",
    "    if check:\n",
    "        print('YES')\n",
    "    else:\n",
    "        print('NO')\n"
   ]
  }
 ],
 "metadata": {
  "kernelspec": {
   "display_name": "Python 3",
   "language": "python",
   "name": "python3"
  },
  "language_info": {
   "codemirror_mode": {
    "name": "ipython",
    "version": 3
   },
   "file_extension": ".py",
   "mimetype": "text/x-python",
   "name": "python",
   "nbconvert_exporter": "python",
   "pygments_lexer": "ipython3",
   "version": "3.8.3"
  }
 },
 "nbformat": 4,
 "nbformat_minor": 4
}
