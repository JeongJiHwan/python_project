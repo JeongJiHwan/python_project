{
 "cells": [
  {
   "cell_type": "code",
   "execution_count": 1,
   "metadata": {},
   "outputs": [
    {
     "name": "stdout",
     "output_type": "stream",
     "text": [
      "0\n",
      "500\n",
      "500\n",
      "200\n",
      "200\n"
     ]
    }
   ],
   "source": [
    "balance = 0\n",
    "\n",
    "def deposit(amount):\n",
    "    global balance\n",
    "    balance += amount\n",
    "    return balance\n",
    "\n",
    "def withdraw(amount):\n",
    "    global balance\n",
    "    if balance-amount>0:\n",
    "        balance-=amount\n",
    "    else:\n",
    "        print('잔액이 부족합니다')\n",
    "    return balance\n",
    "\n",
    "print(balance)\n",
    "print(deposit(500))\n",
    "print(balance)\n",
    "print(withdraw(300))\n",
    "print(balance)"
   ]
  },
  {
   "cell_type": "code",
   "execution_count": 2,
   "metadata": {},
   "outputs": [
    {
     "name": "stdout",
     "output_type": "stream",
     "text": [
      "0\n",
      "0\n",
      "1000\n",
      "2000\n"
     ]
    }
   ],
   "source": [
    "def make_account():\n",
    "    return {'balance':0}\n",
    "def deposit(account, amount):\n",
    "    account['balance']+=amount\n",
    "    return account['balance']\n",
    "def withdraw(account, amount):\n",
    "    account['balance']-=amount\n",
    "    return account['balance']\n",
    "\n",
    "a = make_account()\n",
    "b = make_account()\n",
    "print(a['balance'])\n",
    "print(b['balance'])\n",
    "print(deposit(a,1000))\n",
    "print(deposit(b,2000))"
   ]
  },
  {
   "cell_type": "code",
   "execution_count": 4,
   "metadata": {},
   "outputs": [
    {
     "name": "stdout",
     "output_type": "stream",
     "text": [
      "0\n",
      "1000\n"
     ]
    }
   ],
   "source": [
    "class Account:\n",
    "    balance = 0\n",
    "    \n",
    "    def deposit(self, amount):\n",
    "        self.balance += amount\n",
    "\n",
    "a = Account()\n",
    "print(a.balance)\n",
    "a.deposit(1000)\n",
    "print(a.balance)\n"
   ]
  },
  {
   "cell_type": "code",
   "execution_count": 12,
   "metadata": {},
   "outputs": [
    {
     "name": "stdout",
     "output_type": "stream",
     "text": [
      "3000\n"
     ]
    }
   ],
   "source": [
    "Account.deposit(a,1000)\n",
    "print(a.balance)"
   ]
  },
  {
   "cell_type": "code",
   "execution_count": 22,
   "metadata": {},
   "outputs": [
    {
     "name": "stdout",
     "output_type": "stream",
     "text": [
      "<class 'list'>\n"
     ]
    }
   ],
   "source": [
    "print(type(list()))"
   ]
  },
  {
   "cell_type": "code",
   "execution_count": 1,
   "metadata": {},
   "outputs": [
    {
     "data": {
      "text/plain": [
       "NoneType"
      ]
     },
     "execution_count": 1,
     "metadata": {},
     "output_type": "execute_result"
    }
   ],
   "source": [
    "class Dog:\n",
    "    tricks = [] # mutable type은 모든 instance가 공유한다\n",
    "    def __init__(self, name): #generator 내부에서 선언한 변수의 경우 instance별로 가진다\n",
    "        self.name = name\n",
    "        self.tricks"
   ]
  },
  {
   "cell_type": "code",
   "execution_count": 22,
   "metadata": {},
   "outputs": [
    {
     "name": "stdout",
     "output_type": "stream",
     "text": [
      "이름 :  Gildong Hong\n",
      "잔고 :  0\n",
      "이름 :  Gildong Hong\n",
      "잔고 :  1000\n",
      "이름 :  Gildong Hong\n",
      "잔고 :  100\n",
      "이름 :  Gildong Hong\n",
      "잔고 :  500\n",
      "잔액 부족\n",
      "이름 :  Gildong Hong\n",
      "잔고 :  500\n"
     ]
    }
   ],
   "source": [
    "class BankAccount:\n",
    "    def __init__(self, balance=0, name='none'):\n",
    "        self.balance = balance\n",
    "        self.name = name\n",
    "        \n",
    "    def deposit(self, amount):\n",
    "        self.balance += amount\n",
    "        \n",
    "    def withdraw(self, amount):\n",
    "        if self.balance>=amount:\n",
    "            self.balance -= amount\n",
    "        else:\n",
    "            print('잔액 부족')\n",
    "            \n",
    "    def get_info(self):\n",
    "        print('이름 : ', self.name)\n",
    "        print('잔고 : ', self.balance)\n",
    "        \n",
    "a = BankAccount(name='Gildong Hong')\n",
    "a.get_info()\n",
    "a.deposit(1000)\n",
    "a.get_info()\n",
    "a.withdraw(900)\n",
    "a.get_info()\n",
    "a.deposit(400)\n",
    "a.get_info()\n",
    "a.withdraw(600)\n",
    "a.get_info()"
   ]
  },
  {
   "cell_type": "code",
   "execution_count": 51,
   "metadata": {},
   "outputs": [
    {
     "name": "stdout",
     "output_type": "stream",
     "text": [
      "이름 :  kim\n",
      "잔고 :  1000\n",
      "최소 잔액(500원)을 유지해야 합니다.\n"
     ]
    }
   ],
   "source": [
    "class MinimumBalanceAccount(BankAccount):\n",
    "    def __init__(self, minimum_balance, name='none'):\n",
    "        super().__init__(name = name)\n",
    "        self.minimum_balance = minimum_balance\n",
    "        \n",
    "    def withdraw(self, amount):\n",
    "        if self.balance - amount < self.minimum_balance:\n",
    "            print('최소 잔액(%d원)을 유지해야 합니다.' %self.minimum_balance)\n",
    "        else:\n",
    "            self.balance -= amount\n",
    "            \n",
    "a = MinimumBalanceAccount(500, 'kim')\n",
    "a.deposit(1000)\n",
    "a.get_info()\n",
    "a.withdraw(1000)"
   ]
  },
  {
   "cell_type": "markdown",
   "metadata": {},
   "source": [
    "## 이터레이터(Iterator)"
   ]
  },
  {
   "cell_type": "code",
   "execution_count": 66,
   "metadata": {},
   "outputs": [
    {
     "name": "stdout",
     "output_type": "stream",
     "text": [
      "<__main__.Reverse object at 0x7f1541d90c40>\n",
      "m\n",
      "a\n",
      "p\n",
      "s\n"
     ]
    }
   ],
   "source": [
    "class Reverse:\n",
    "    def __init__(self, data):\n",
    "        self.data = data\n",
    "        self.index = len(data)\n",
    "    \n",
    "    def __iter__(self):\n",
    "        return self\n",
    "    \n",
    "    def __next__(self):\n",
    "        if self.index >0:\n",
    "            self.index -= 1\n",
    "            return self.data[self.index]\n",
    "        else:\n",
    "            raise StopIteration()\n",
    "            \n",
    "rev = Reverse('spam')\n",
    "\n",
    "print(rev)\n",
    "\n",
    "for i in rev:\n",
    "    print(i)"
   ]
  },
  {
   "cell_type": "markdown",
   "metadata": {},
   "source": [
    "## 제너레이터(Generator)"
   ]
  },
  {
   "cell_type": "code",
   "execution_count": 72,
   "metadata": {},
   "outputs": [
    {
     "name": "stdout",
     "output_type": "stream",
     "text": [
      "<generator object reverse at 0x7f1541858120>\n",
      "n\n",
      "o\n",
      "l\n",
      "l\n",
      "e\n",
      "h\n"
     ]
    }
   ],
   "source": [
    "def reverse(input_string):\n",
    "      for idx in range(len(input_string)-1,-1,-1):\n",
    "            yield input_string[idx]\n",
    "#     input_string = input_string[::-1]\n",
    "#     for i in input_string:\n",
    "#         yield i\n",
    "        \n",
    "\n",
    "for char in reverse(\"hello\"):\n",
    "    print(char)"
   ]
  },
  {
   "cell_type": "markdown",
   "metadata": {},
   "source": [
    "### 제너레이터 표현식(Generator Expression)"
   ]
  },
  {
   "cell_type": "code",
   "execution_count": 73,
   "metadata": {},
   "outputs": [
    {
     "name": "stdout",
     "output_type": "stream",
     "text": [
      "<generator object <genexpr> at 0x7f1541858430>\n",
      "1\n"
     ]
    },
    {
     "data": {
      "text/plain": [
       "[4, 9, 16, 25, 36, 49]"
      ]
     },
     "execution_count": 73,
     "metadata": {},
     "output_type": "execute_result"
    }
   ],
   "source": [
    "numbers = [1,2,3,4,5,6,7]\n",
    "lazy_squares = (x*x for x in numbers)\n",
    "\n",
    "print(lazy_squares)\n",
    "\n",
    "print(next(lazy_squares))\n",
    "\n",
    "list(lazy_squares)"
   ]
  }
 ],
 "metadata": {
  "kernelspec": {
   "display_name": "Python 3",
   "language": "python",
   "name": "python3"
  },
  "language_info": {
   "codemirror_mode": {
    "name": "ipython",
    "version": 3
   },
   "file_extension": ".py",
   "mimetype": "text/x-python",
   "name": "python",
   "nbconvert_exporter": "python",
   "pygments_lexer": "ipython3",
   "version": "3.8.3"
  }
 },
 "nbformat": 4,
 "nbformat_minor": 4
}
