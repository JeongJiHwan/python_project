{
 "cells": [
  {
   "cell_type": "markdown",
   "metadata": {},
   "source": [
    "# Day1\n",
    "### 연습문제 4\n",
    "2개의 정수를 입력 받아, 사칙연산 및 나머지\n",
    "연산의 결과를 아래와 같이 출력하는 프로그램을 작성\n",
    "하시오. \n"
   ]
  },
  {
   "cell_type": "code",
   "execution_count": 6,
   "metadata": {},
   "outputs": [
    {
     "name": "stdout",
     "output_type": "stream",
     "text": [
      "Enter two integers : 13 23\n",
      "13 + 23 = 36\n",
      "13 - 23 = -10\n",
      "13 * 23 = 299\n",
      "13 / 23 = 0.5652173913043478\n",
      "13 % 23 = 13\n"
     ]
    }
   ],
   "source": [
    "numbers = input('Enter two integers : ')\n",
    "x, y = numbers.split(' ')\n",
    "print(x, '+', y, '=', int(x)+int(y))\n",
    "print(x, '-', y, '=', int(x)-int(y))\n",
    "print(x, '*', y, '=', int(x)*int(y))\n",
    "print(x, '/', y, '=', int(x)/int(y))\n",
    "print(x, '%', y, '=', int(x)%int(y))"
   ]
  },
  {
   "cell_type": "markdown",
   "metadata": {},
   "source": [
    "### 연습문제 5\n",
    "두 정수를 입력 받아, 합과 평균을 구하여 출  \n",
    "력하는 프로그램을 작성하시오.\n",
    "(평균 소수 첫째 자리까지 나타내기)"
   ]
  },
  {
   "cell_type": "code",
   "execution_count": 48,
   "metadata": {},
   "outputs": [
    {
     "name": "stdout",
     "output_type": "stream",
     "text": [
      "Enter two integers : 80 97\n",
      "The sum of 80 and 97 is 177\n",
      "The average of numbers is 88.5\n"
     ]
    }
   ],
   "source": [
    "numbers = input('Enter two integers : ')\n",
    "x, y = numbers.split(' ')\n",
    "total = int(x) + int(y)\n",
    "average = total/2\n",
    "print(\"The sum of %s and %s is %d\" % (x, y, total))\n",
    "print(\"The average of numbers is %.1f\" % average)"
   ]
  },
  {
   "cell_type": "markdown",
   "metadata": {},
   "source": [
    "### 연습문제 6\n",
    "아래의 실행예제를 참고하여 프로그램을 작성하라.  \n",
    "날짜(연/월/일)입력:2020/07/28  \n",
    "입력한 날짜의 10년 후는 2030년 7월 28일"
   ]
  },
  {
   "cell_type": "code",
   "execution_count": 4,
   "metadata": {},
   "outputs": [
    {
     "name": "stdout",
     "output_type": "stream",
     "text": [
      "날짜(연/월/일)입력 : 2020/07/28\n",
      "입력한 날짜의 10년 후는 2030년 7월 28일\n"
     ]
    }
   ],
   "source": [
    "date = input('날짜(연/월/일)입력 : ')\n",
    "year, month, day = map(int, date.split('/'))\n",
    "\n",
    "print('입력한 날짜의 10년 후는 %d년 %d월 %d일' %(year+10, month, day))"
   ]
  },
  {
   "cell_type": "markdown",
   "metadata": {},
   "source": [
    "# Day 2\n",
    "## 1. 조건문\n",
    "### 문제1) \n",
    "입력 받은 정수가 짝수인지 홀수인지 판별"
   ]
  },
  {
   "cell_type": "code",
   "execution_count": 5,
   "metadata": {},
   "outputs": [
    {
     "name": "stdout",
     "output_type": "stream",
     "text": [
      "Enter a number : 45\n",
      "45 is Odd number\n"
     ]
    }
   ],
   "source": [
    "num = int(input('Enter a number : '))\n",
    "\n",
    "if num%2==0:\n",
    "    print('%d is Even number' % num)\n",
    "else:\n",
    "    print('%d is Odd number' % num)"
   ]
  },
  {
   "cell_type": "markdown",
   "metadata": {},
   "source": [
    "### 문제2) \n",
    "프로그래밍 과목의 중간고사와 기말고사 점수를 입력 받아 평균과 학점을 구하는 프로그램을 작성하시오."
   ]
  },
  {
   "cell_type": "code",
   "execution_count": 3,
   "metadata": {},
   "outputs": [
    {
     "name": "stdout",
     "output_type": "stream",
     "text": [
      "Enter your midterm score : 80\n",
      "Enter your final score : 70\n",
      "Average:75.0\n",
      "Grade: C\n"
     ]
    }
   ],
   "source": [
    "midterm = int(input('Enter your midterm score : '))\n",
    "final = int(input('Enter your final score : '))\n",
    "avg = (midterm + final)/2\n",
    "grade = ''\n",
    "\n",
    "if avg>=90:\n",
    "    grade='A'\n",
    "elif avg>=80:\n",
    "    grade='B'\n",
    "elif avg>=70:\n",
    "    grade='C'\n",
    "elif avg>=60:\n",
    "    grade='D'\n",
    "else:\n",
    "    grade='F'\n",
    "    \n",
    "print('Average:%.1f' % avg)\n",
    "print('Grade: %s' % grade)"
   ]
  },
  {
   "cell_type": "markdown",
   "metadata": {},
   "source": [
    "### 문제3) \n",
    "학생수준평가 시험에서 영어 점수와 수학 점수가 합해서 110점 이상이면 합격이다. 단, 각 점수가 40점 미만이면 불합격이다. 영어(eng), 수학(math)점수를 입력 받아 합격여부를 출력하는 프로그램을 작성하시오"
   ]
  },
  {
   "cell_type": "code",
   "execution_count": 14,
   "metadata": {},
   "outputs": [
    {
     "name": "stdout",
     "output_type": "stream",
     "text": [
      "영어 점수 입력 : 35\n",
      "수학 점수 입력 : 95\n",
      "불합격 : 영어 점수 부족\n"
     ]
    }
   ],
   "source": [
    "eng = int(input('영어 점수 입력 : '))\n",
    "math = int(input('수학 점수 입력 : '))\n",
    "total = eng+math\n",
    "\n",
    "if total>=110:\n",
    "    if eng<40:\n",
    "        print('불합격 : 영어 점수 부족')\n",
    "    elif math<40:\n",
    "        print('불합격 : 수학 점수 부족')\n",
    "    else:\n",
    "        print('합격')\n",
    "else:\n",
    "    print('불합격 : 총합 점수 부족')\n"
   ]
  },
  {
   "cell_type": "markdown",
   "metadata": {},
   "source": [
    "### 문제4) \n",
    "세 개의 정수를 입력 받아, 가장 큰 수만 출력하는 프로그램을 작성하시오."
   ]
  },
  {
   "cell_type": "code",
   "execution_count": 19,
   "metadata": {},
   "outputs": [
    {
     "name": "stdout",
     "output_type": "stream",
     "text": [
      "세 개의 수를 입력하시오 : 30 40 50\n",
      "가장 큰 수는 50입니다.\n"
     ]
    }
   ],
   "source": [
    "x1, x2, x3 = map(int, input('세 개의 수를 입력하시오 : ').split())\n",
    "\n",
    "max_value = x1\n",
    "if x2 > max_value:\n",
    "    max_value = x2\n",
    "if x3 > max_value:\n",
    "    max_value = x3\n",
    "    \n",
    "print('가장 큰 수는 %d입니다.' %max_value)"
   ]
  },
  {
   "cell_type": "markdown",
   "metadata": {},
   "source": [
    "## 2.반복문\n",
    "### 문제1) \n",
    "단어(문자열)가 주어질 때, 아래와 같이 출력되도록 작성하시오.  \n",
    "P  \n",
    "y  \n",
    "t  \n",
    "h  \n",
    "o  \n",
    "n  "
   ]
  },
  {
   "cell_type": "code",
   "execution_count": 21,
   "metadata": {},
   "outputs": [
    {
     "name": "stdout",
     "output_type": "stream",
     "text": [
      "P\n",
      "y\n",
      "t\n",
      "h\n",
      "o\n",
      "n\n"
     ]
    }
   ],
   "source": [
    "#(1) while문을 이용해 작성\n",
    "word = 'Python'\n",
    "\n",
    "count = 0\n",
    "while count<len(word):\n",
    "    print(word[count])\n",
    "    count+=1"
   ]
  },
  {
   "cell_type": "code",
   "execution_count": 22,
   "metadata": {},
   "outputs": [
    {
     "name": "stdout",
     "output_type": "stream",
     "text": [
      "P\n",
      "y\n",
      "t\n",
      "h\n",
      "o\n",
      "n\n"
     ]
    }
   ],
   "source": [
    "#(2) for문을 이용하여 작성\n",
    "word = 'Python'\n",
    "\n",
    "for x in word:\n",
    "    print(x)"
   ]
  },
  {
   "cell_type": "markdown",
   "metadata": {},
   "source": [
    "### 문제 2) \n",
    "아래와 같이 출력되는 프로그램을 작성하시오.  \n",
    "10, 9, 8, 7, 6, 5, 4, 3, 2, 1, Happy new year!!"
   ]
  },
  {
   "cell_type": "code",
   "execution_count": 24,
   "metadata": {},
   "outputs": [
    {
     "name": "stdout",
     "output_type": "stream",
     "text": [
      "10, 9, 8, 7, 6, 5, 4, 3, 2, 1, Happy new year!!\n"
     ]
    }
   ],
   "source": [
    "count = 10\n",
    "\n",
    "while count>0:\n",
    "    print(count, end=', ')\n",
    "    count -= 1\n",
    "    \n",
    "print('Happy new year!!')"
   ]
  },
  {
   "cell_type": "markdown",
   "metadata": {},
   "source": [
    "### 문제3)  \n",
    "양의 두 정수 a, b를 입력 받아, a부터 b까지의 정수의 합을 구하여 출력하는 프로그램을 작성하시오."
   ]
  },
  {
   "cell_type": "code",
   "execution_count": 46,
   "metadata": {},
   "outputs": [
    {
     "name": "stdout",
     "output_type": "stream",
     "text": [
      "Enter two integers : 1 10\n",
      "The sum from 1 to 10 is 55\n"
     ]
    }
   ],
   "source": [
    "a, b = map(int, input('Enter two integers : ').split())\n",
    "\n",
    "total = 0\n",
    "for i in range(a, b+1):\n",
    "    total += i\n",
    "\n",
    "print('The sum from %d to %d is %d' %(a,b,total))"
   ]
  },
  {
   "cell_type": "markdown",
   "metadata": {},
   "source": [
    "### 문제4) \n",
    "주어진 문자열에 문자a가 몇 개 있는지 구하는 프로그램을 작성하시오."
   ]
  },
  {
   "cell_type": "code",
   "execution_count": 27,
   "metadata": {},
   "outputs": [
    {
     "name": "stdout",
     "output_type": "stream",
     "text": [
      "count : 3\n"
     ]
    }
   ],
   "source": [
    "word = 'banana'\n",
    "\n",
    "count = 0\n",
    "\n",
    "for x in word:\n",
    "    if x=='a':\n",
    "        count+=1\n",
    "        \n",
    "print('count : %d' %count)"
   ]
  },
  {
   "cell_type": "markdown",
   "metadata": {},
   "source": [
    "### 문제5) \n",
    "for 문과 range()함수를 이용하여 다음과 같이 출력되도록 작성하시오.  \n",
    "0 1 2 3 4 5 6 7 8 9  \n",
    "0 5 10 15 20 25 30 35 40 45 50  \n",
    "10 9 8 7 6 5 4 3 2 1  "
   ]
  },
  {
   "cell_type": "code",
   "execution_count": 29,
   "metadata": {},
   "outputs": [
    {
     "name": "stdout",
     "output_type": "stream",
     "text": [
      "0 1 2 3 4 5 6 7 8 9 \n",
      "0 5 10 15 20 25 30 35 40 45 50 \n",
      "10 9 8 7 6 5 4 3 2 1 \n"
     ]
    }
   ],
   "source": [
    "for i in range(10):\n",
    "    print(i, end=' ')\n",
    "print()\n",
    "\n",
    "for i in range(0,51,5):\n",
    "    print(i, end=' ')\n",
    "print()\n",
    "\n",
    "for i in range(10,0,-1):\n",
    "    print(i, end=' ')\n",
    "print()"
   ]
  },
  {
   "cell_type": "markdown",
   "metadata": {},
   "source": [
    "### 문제6)  \n",
    "for 문을 사용하여 리스트(colors)의 모든 내용을 출력하시오."
   ]
  },
  {
   "cell_type": "code",
   "execution_count": 30,
   "metadata": {},
   "outputs": [
    {
     "name": "stdout",
     "output_type": "stream",
     "text": [
      "red\n",
      "green\n",
      "blue\n"
     ]
    }
   ],
   "source": [
    "colors = ['red', 'green', 'blue']\n",
    "\n",
    "for color in colors:\n",
    "    print(color)"
   ]
  },
  {
   "cell_type": "markdown",
   "metadata": {},
   "source": [
    "### 문제7) \n",
    "리스트 a 전체를 반복해서 방문하되, 짝수만 출력하시오."
   ]
  },
  {
   "cell_type": "code",
   "execution_count": 32,
   "metadata": {},
   "outputs": [
    {
     "name": "stdout",
     "output_type": "stream",
     "text": [
      "4 6 8 10 12 "
     ]
    }
   ],
   "source": [
    "a = [1,3,4,5,6,7,8,9,10,11,12,13]\n",
    "\n",
    "for x in a:\n",
    "    if x%2==0:\n",
    "        print(x, end=' ')"
   ]
  },
  {
   "cell_type": "markdown",
   "metadata": {},
   "source": [
    "### 문제8) \n",
    "구구단 출력 1"
   ]
  },
  {
   "cell_type": "code",
   "execution_count": 33,
   "metadata": {},
   "outputs": [
    {
     "name": "stdout",
     "output_type": "stream",
     "text": [
      "출력하고 싶은 단을 입력하세요 : 7\n",
      "7 * 1 = 7\n",
      "7 * 2 = 14\n",
      "7 * 3 = 21\n",
      "7 * 4 = 28\n",
      "7 * 5 = 35\n",
      "7 * 6 = 42\n",
      "7 * 7 = 49\n",
      "7 * 8 = 56\n",
      "7 * 9 = 63\n"
     ]
    }
   ],
   "source": [
    "x = int(input('출력하고 싶은 단을 입력하세요 : '))\n",
    "\n",
    "for i in range(1,10):\n",
    "    print('%d * %d = %d' %(x,i,x*i))"
   ]
  },
  {
   "cell_type": "markdown",
   "metadata": {},
   "source": [
    "### 문제9) \n",
    "구구단 출력2 (중첩 반복문)"
   ]
  },
  {
   "cell_type": "code",
   "execution_count": 35,
   "metadata": {},
   "outputs": [
    {
     "name": "stdout",
     "output_type": "stream",
     "text": [
      "== 2단 ==\n",
      "2 * 1 = 2\n",
      "2 * 2 = 4\n",
      "2 * 3 = 6\n",
      "2 * 4 = 8\n",
      "2 * 5 = 10\n",
      "2 * 6 = 12\n",
      "2 * 7 = 14\n",
      "2 * 8 = 16\n",
      "2 * 9 = 18\n",
      "== 3단 ==\n",
      "3 * 1 = 3\n",
      "3 * 2 = 6\n",
      "3 * 3 = 9\n",
      "3 * 4 = 12\n",
      "3 * 5 = 15\n",
      "3 * 6 = 18\n",
      "3 * 7 = 21\n",
      "3 * 8 = 24\n",
      "3 * 9 = 27\n",
      "== 4단 ==\n",
      "4 * 1 = 4\n",
      "4 * 2 = 8\n",
      "4 * 3 = 12\n",
      "4 * 4 = 16\n",
      "4 * 5 = 20\n",
      "4 * 6 = 24\n",
      "4 * 7 = 28\n",
      "4 * 8 = 32\n",
      "4 * 9 = 36\n",
      "== 5단 ==\n",
      "5 * 1 = 5\n",
      "5 * 2 = 10\n",
      "5 * 3 = 15\n",
      "5 * 4 = 20\n",
      "5 * 5 = 25\n",
      "5 * 6 = 30\n",
      "5 * 7 = 35\n",
      "5 * 8 = 40\n",
      "5 * 9 = 45\n",
      "== 6단 ==\n",
      "6 * 1 = 6\n",
      "6 * 2 = 12\n",
      "6 * 3 = 18\n",
      "6 * 4 = 24\n",
      "6 * 5 = 30\n",
      "6 * 6 = 36\n",
      "6 * 7 = 42\n",
      "6 * 8 = 48\n",
      "6 * 9 = 54\n",
      "== 7단 ==\n",
      "7 * 1 = 7\n",
      "7 * 2 = 14\n",
      "7 * 3 = 21\n",
      "7 * 4 = 28\n",
      "7 * 5 = 35\n",
      "7 * 6 = 42\n",
      "7 * 7 = 49\n",
      "7 * 8 = 56\n",
      "7 * 9 = 63\n",
      "== 8단 ==\n",
      "8 * 1 = 8\n",
      "8 * 2 = 16\n",
      "8 * 3 = 24\n",
      "8 * 4 = 32\n",
      "8 * 5 = 40\n",
      "8 * 6 = 48\n",
      "8 * 7 = 56\n",
      "8 * 8 = 64\n",
      "8 * 9 = 72\n",
      "== 9단 ==\n",
      "9 * 1 = 9\n",
      "9 * 2 = 18\n",
      "9 * 3 = 27\n",
      "9 * 4 = 36\n",
      "9 * 5 = 45\n",
      "9 * 6 = 54\n",
      "9 * 7 = 63\n",
      "9 * 8 = 72\n",
      "9 * 9 = 81\n"
     ]
    }
   ],
   "source": [
    "for x in range(2,10):\n",
    "    print('== %d단 ==' %x)\n",
    "    for i in range(1,10):\n",
    "        print('%d * %d = %d' %(x,i,x*i))"
   ]
  },
  {
   "cell_type": "markdown",
   "metadata": {},
   "source": [
    "### 문제10) \n",
    "구구단 출력3 (중첩반복문)"
   ]
  },
  {
   "cell_type": "code",
   "execution_count": 2,
   "metadata": {},
   "outputs": [
    {
     "name": "stdout",
     "output_type": "stream",
     "text": [
      "2*1= 2\t3*1= 3\t4*1= 4\t5*1= 5\t6*1= 6\t7*1= 7\t8*1= 8\t9*1= 9\t\n",
      "2*2= 4\t3*2= 6\t4*2= 8\t5*2=10\t6*2=12\t7*2=14\t8*2=16\t9*2=18\t\n",
      "2*3= 6\t3*3= 9\t4*3=12\t5*3=15\t6*3=18\t7*3=21\t8*3=24\t9*3=27\t\n",
      "2*4= 8\t3*4=12\t4*4=16\t5*4=20\t6*4=24\t7*4=28\t8*4=32\t9*4=36\t\n",
      "2*5=10\t3*5=15\t4*5=20\t5*5=25\t6*5=30\t7*5=35\t8*5=40\t9*5=45\t\n",
      "2*6=12\t3*6=18\t4*6=24\t5*6=30\t6*6=36\t7*6=42\t8*6=48\t9*6=54\t\n",
      "2*7=14\t3*7=21\t4*7=28\t5*7=35\t6*7=42\t7*7=49\t8*7=56\t9*7=63\t\n",
      "2*8=16\t3*8=24\t4*8=32\t5*8=40\t6*8=48\t7*8=56\t8*8=64\t9*8=72\t\n",
      "2*9=18\t3*9=27\t4*9=36\t5*9=45\t6*9=54\t7*9=63\t8*9=72\t9*9=81\t\n"
     ]
    }
   ],
   "source": [
    "for i in range(1,10):\n",
    "    for x in range(2,10):\n",
    "        print('%d*%d=%2d' %(x,i,x*i), end='\\t')\n",
    "    print()"
   ]
  },
  {
   "cell_type": "markdown",
   "metadata": {},
   "source": [
    "### 문제11)\n",
    "★ 출력 프로그램"
   ]
  },
  {
   "cell_type": "code",
   "execution_count": 1,
   "metadata": {},
   "outputs": [
    {
     "name": "stdout",
     "output_type": "stream",
     "text": [
      "input an integer : 3492\n",
      "★★★\n",
      "★★★★\n",
      "★★★★★★★★★\n",
      "★★\n"
     ]
    }
   ],
   "source": [
    "value = input('input an integer : ')\n",
    "\n",
    "for i in value:\n",
    "    for x in range(int(i)):\n",
    "        print('★', end='')\n",
    "    print()"
   ]
  }
 ],
 "metadata": {
  "kernelspec": {
   "display_name": "Python 3",
   "language": "python",
   "name": "python3"
  },
  "language_info": {
   "codemirror_mode": {
    "name": "ipython",
    "version": 3
   },
   "file_extension": ".py",
   "mimetype": "text/x-python",
   "name": "python",
   "nbconvert_exporter": "python",
   "pygments_lexer": "ipython3",
   "version": "3.8.3"
  }
 },
 "nbformat": 4,
 "nbformat_minor": 4
}
