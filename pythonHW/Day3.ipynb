{
 "cells": [
  {
   "cell_type": "code",
   "execution_count": 1,
   "metadata": {},
   "outputs": [
    {
     "name": "stdout",
     "output_type": "stream",
     "text": [
      "Input an Integer : 15613\n",
      "★\n",
      "★★★★★\n",
      "★★★★★★\n",
      "★\n",
      "★★★\n"
     ]
    }
   ],
   "source": [
    "number = input('Input an Integer : ')\n",
    "\n",
    "for i in number:\n",
    "    print('★'*int(i))"
   ]
  },
  {
   "cell_type": "code",
   "execution_count": 2,
   "metadata": {},
   "outputs": [
    {
     "name": "stdout",
     "output_type": "stream",
     "text": [
      "Input an Integer : 156123\n",
      "★\n",
      "★★★★★\n",
      "★★★★★★\n",
      "★\n",
      "★★\n",
      "★★★\n"
     ]
    }
   ],
   "source": [
    "number = input('Input an Integer : ')\n",
    "\n",
    "for i in number:\n",
    "    for x in range(int(i)):\n",
    "        print('★',end='')\n",
    "    print()"
   ]
  },
  {
   "cell_type": "code",
   "execution_count": 3,
   "metadata": {},
   "outputs": [
    {
     "name": "stdout",
     "output_type": "stream",
     "text": [
      "[1, 7, 9, 2, 5]\n",
      "[1, 2, 5, 7, 9]\n",
      "[9, 7, 5, 2, 1]\n"
     ]
    }
   ],
   "source": [
    "a = [1,7,9,2,5]\n",
    "print(a)\n",
    "a.sort()\n",
    "print(a)\n",
    "\n",
    "a.sort(reverse=True)\n",
    "print(a)"
   ]
  },
  {
   "cell_type": "code",
   "execution_count": 4,
   "metadata": {},
   "outputs": [
    {
     "name": "stdout",
     "output_type": "stream",
     "text": [
      "['banana', 'apple', 'orange']\n",
      "['apple', 'banana', 'orange']\n"
     ]
    }
   ],
   "source": [
    "f = ['banana', 'apple', 'orange']\n",
    "print(f)\n",
    "f.sort()\n",
    "print(f)"
   ]
  },
  {
   "cell_type": "code",
   "execution_count": 5,
   "metadata": {},
   "outputs": [
    {
     "name": "stdout",
     "output_type": "stream",
     "text": [
      "[1, 2, 3, 4, 5, 6, 7, 8, 9, 10]\n",
      "max :  10\n",
      "min :  1\n",
      "sum :  55\n"
     ]
    }
   ],
   "source": [
    "#a = [x for x in range(1,11)]\n",
    "a = list(range(1,11))\n",
    "print(a)\n",
    "print('max : ', max(a))\n",
    "print('min : ', min(a))\n",
    "print('sum : ', sum(a))"
   ]
  },
  {
   "cell_type": "markdown",
   "metadata": {},
   "source": [
    "### 문제12)\n",
    "“done“을 입력할 때까지 사용자로부터 숫자를 입력 받아  \n",
    "리스트에 저장하고, “done“을 입력하면, 리스트의 평균,  \n",
    "최대값과 최소값을 출력하는 프로그램을 작성하시오.  \n",
    "(힌트) sum(), max(), min() 함수를 사용  \n",
    "Enter a number: 7  \n",
    "Enter a number: 2  \n",
    "Enter a number: 9  \n",
    "Enter a number: 3  \n",
    "Enter a number: 5  \n",
    "Enter a number: done  \n",
    "[7.0, 2.0, 9.0, 3.0, 5.0]  \n",
    "Average: 5.2  \n",
    "Maximum: 9.0  \n",
    "Minimum: 2.0  "
   ]
  },
  {
   "cell_type": "code",
   "execution_count": 6,
   "metadata": {},
   "outputs": [
    {
     "name": "stdout",
     "output_type": "stream",
     "text": [
      "Enter a number : 1\n",
      "Enter a number : 2\n",
      "Enter a number : 3\n",
      "Enter a number : 4\n",
      "Enter a number : 5\n",
      "Enter a number : 6\n",
      "Enter a number : 7\n",
      "Enter a number : 8\n",
      "Enter a number : 9\n",
      "Enter a number : done\n",
      "[1.0, 2.0, 3.0, 4.0, 5.0, 6.0, 7.0, 8.0, 9.0]\n",
      "Average : 5.0\n",
      "Maximum : 9.0\n",
      "Minimum : 1.0\n"
     ]
    }
   ],
   "source": [
    "result = []\n",
    "while True:\n",
    "    number = input('Enter a number : ')\n",
    "    \n",
    "    if number == 'done':\n",
    "        break;\n",
    "    else:\n",
    "        result.append(float(number))\n",
    "        \n",
    "print(result)\n",
    "print('Average :', (sum(result)/len(result)))\n",
    "print('Maximum :', max(result))\n",
    "print('Minimum :', min(result))   "
   ]
  },
  {
   "cell_type": "code",
   "execution_count": 7,
   "metadata": {},
   "outputs": [
    {
     "name": "stdout",
     "output_type": "stream",
     "text": [
      "list index out of range\n"
     ]
    }
   ],
   "source": [
    "try:\n",
    "    a = [1,2]\n",
    "    print(a[3])\n",
    "    4/0\n",
    "except (ZeroDivisionError, IndexError) as e:\n",
    "    print(e)"
   ]
  },
  {
   "cell_type": "code",
   "execution_count": 8,
   "metadata": {},
   "outputs": [
    {
     "name": "stdout",
     "output_type": "stream",
     "text": [
      "(1,)\n"
     ]
    },
    {
     "data": {
      "text/plain": [
       "tuple"
      ]
     },
     "execution_count": 8,
     "metadata": {},
     "output_type": "execute_result"
    }
   ],
   "source": [
    "t1 = (1,)\n",
    "print(t1)\n",
    "type(t1)"
   ]
  },
  {
   "cell_type": "code",
   "execution_count": 9,
   "metadata": {},
   "outputs": [
    {
     "data": {
      "text/plain": [
       "(1, 2, 3, 4, 5, 6, 1)"
      ]
     },
     "execution_count": 9,
     "metadata": {},
     "output_type": "execute_result"
    }
   ],
   "source": [
    "t = (1,2,3,4,5,6,)\n",
    "t[1]\n",
    "t2 = t + t1\n",
    "t2"
   ]
  },
  {
   "cell_type": "code",
   "execution_count": 10,
   "metadata": {},
   "outputs": [
    {
     "data": {
      "text/plain": [
       "{1, 2, 3, 4}"
      ]
     },
     "execution_count": 10,
     "metadata": {},
     "output_type": "execute_result"
    }
   ],
   "source": [
    "s1 = set([1,2,1,2,3,4,3])\n",
    "s2 = {3,4,5}\n",
    "s1\n"
   ]
  },
  {
   "cell_type": "code",
   "execution_count": 11,
   "metadata": {},
   "outputs": [
    {
     "data": {
      "text/plain": [
       "['H', 'e', 'l', 'l', 'o', 'H', 'e', 'l', 'l', 'o']"
      ]
     },
     "execution_count": 11,
     "metadata": {},
     "output_type": "execute_result"
    }
   ],
   "source": [
    "word = 'Hello'*2\n",
    "word\n",
    "word_list = list(word)\n",
    "word_list"
   ]
  },
  {
   "cell_type": "code",
   "execution_count": 12,
   "metadata": {},
   "outputs": [
    {
     "data": {
      "text/plain": [
       "{'H', 'e', 'l', 'o'}"
      ]
     },
     "execution_count": 12,
     "metadata": {},
     "output_type": "execute_result"
    }
   ],
   "source": [
    "s3 = set(word_list)\n",
    "s3"
   ]
  },
  {
   "cell_type": "code",
   "execution_count": 15,
   "metadata": {},
   "outputs": [
    {
     "data": {
      "text/plain": [
       "{'e', 'h', 'l', 'o'}"
      ]
     },
     "execution_count": 15,
     "metadata": {},
     "output_type": "execute_result"
    }
   ],
   "source": [
    "s4 = set(\"hellohello\")\n",
    "s4"
   ]
  },
  {
   "cell_type": "code",
   "execution_count": 19,
   "metadata": {},
   "outputs": [
    {
     "data": {
      "text/plain": [
       "{1, 2, 3, 4, 5}"
      ]
     },
     "execution_count": 19,
     "metadata": {},
     "output_type": "execute_result"
    }
   ],
   "source": [
    "s={1,2,3,4,5,3,4}\n",
    "s"
   ]
  },
  {
   "cell_type": "code",
   "execution_count": 22,
   "metadata": {},
   "outputs": [
    {
     "data": {
      "text/plain": [
       "{1, 2, 3, 4, 5, 10}"
      ]
     },
     "execution_count": 22,
     "metadata": {},
     "output_type": "execute_result"
    }
   ],
   "source": [
    "s.add(10)\n",
    "s"
   ]
  },
  {
   "cell_type": "code",
   "execution_count": 23,
   "metadata": {},
   "outputs": [
    {
     "data": {
      "text/plain": [
       "{1, 3, 4, 5, 10}"
      ]
     },
     "execution_count": 23,
     "metadata": {},
     "output_type": "execute_result"
    }
   ],
   "source": [
    "s.remove(2)\n",
    "s"
   ]
  },
  {
   "cell_type": "code",
   "execution_count": 25,
   "metadata": {},
   "outputs": [
    {
     "data": {
      "text/plain": [
       "{1, 3, 4, 5, 6, 10}"
      ]
     },
     "execution_count": 25,
     "metadata": {},
     "output_type": "execute_result"
    }
   ],
   "source": [
    "s.update([1,3,4,5,6])\n",
    "s"
   ]
  },
  {
   "cell_type": "code",
   "execution_count": 27,
   "metadata": {},
   "outputs": [
    {
     "data": {
      "text/plain": [
       "{1, 3, 4, 5, 6, 10}"
      ]
     },
     "execution_count": 27,
     "metadata": {},
     "output_type": "execute_result"
    }
   ],
   "source": [
    "s.discard(7)\n",
    "s"
   ]
  },
  {
   "cell_type": "code",
   "execution_count": 28,
   "metadata": {},
   "outputs": [
    {
     "data": {
      "text/plain": [
       "set()"
      ]
     },
     "execution_count": 28,
     "metadata": {},
     "output_type": "execute_result"
    }
   ],
   "source": [
    "s.clear()\n",
    "s"
   ]
  },
  {
   "cell_type": "code",
   "execution_count": 29,
   "metadata": {},
   "outputs": [],
   "source": [
    "s.add(10)"
   ]
  },
  {
   "cell_type": "code",
   "execution_count": 30,
   "metadata": {},
   "outputs": [
    {
     "data": {
      "text/plain": [
       "{10}"
      ]
     },
     "execution_count": 30,
     "metadata": {},
     "output_type": "execute_result"
    }
   ],
   "source": [
    "s"
   ]
  },
  {
   "cell_type": "code",
   "execution_count": 44,
   "metadata": {},
   "outputs": [
    {
     "data": {
      "text/plain": [
       "{'kim': 1, 'park': 2}"
      ]
     },
     "execution_count": 44,
     "metadata": {},
     "output_type": "execute_result"
    }
   ],
   "source": [
    "d = {}\n",
    "d['kim'] = 1\n",
    "d['park']=2\n",
    "d"
   ]
  },
  {
   "cell_type": "code",
   "execution_count": 45,
   "metadata": {},
   "outputs": [
    {
     "data": {
      "text/plain": [
       "{'kim': 3, 'park': 2, 'youn': 1}"
      ]
     },
     "execution_count": 45,
     "metadata": {},
     "output_type": "execute_result"
    }
   ],
   "source": [
    "d['kim']=3\n",
    "d['youn']=1\n",
    "d"
   ]
  },
  {
   "cell_type": "code",
   "execution_count": 46,
   "metadata": {},
   "outputs": [
    {
     "data": {
      "text/plain": [
       "dict_keys(['kim', 'park', 'youn'])"
      ]
     },
     "execution_count": 46,
     "metadata": {},
     "output_type": "execute_result"
    }
   ],
   "source": [
    "d.keys()"
   ]
  },
  {
   "cell_type": "code",
   "execution_count": 47,
   "metadata": {},
   "outputs": [
    {
     "data": {
      "text/plain": [
       "dict_values([3, 2, 1])"
      ]
     },
     "execution_count": 47,
     "metadata": {},
     "output_type": "execute_result"
    }
   ],
   "source": [
    "d.values()"
   ]
  },
  {
   "cell_type": "code",
   "execution_count": 48,
   "metadata": {},
   "outputs": [
    {
     "data": {
      "text/plain": [
       "dict_items([('kim', 3), ('park', 2), ('youn', 1)])"
      ]
     },
     "execution_count": 48,
     "metadata": {},
     "output_type": "execute_result"
    }
   ],
   "source": [
    "d.items()"
   ]
  },
  {
   "cell_type": "code",
   "execution_count": 49,
   "metadata": {},
   "outputs": [
    {
     "data": {
      "text/plain": [
       "['kim', 'park', 'youn']"
      ]
     },
     "execution_count": 49,
     "metadata": {},
     "output_type": "execute_result"
    }
   ],
   "source": [
    "list(d)"
   ]
  },
  {
   "cell_type": "code",
   "execution_count": 54,
   "metadata": {},
   "outputs": [
    {
     "data": {
      "text/plain": [
       "['kim', 'park', 'youn']"
      ]
     },
     "execution_count": 54,
     "metadata": {},
     "output_type": "execute_result"
    }
   ],
   "source": [
    "sd = list(d)\n",
    "sd.sort()\n",
    "sd"
   ]
  },
  {
   "cell_type": "markdown",
   "metadata": {},
   "source": [
    "# HW3\n",
    "## 1.dict\n",
    "### 실습1)\n",
    "for 문을 사용하여 딕셔너리 타입의 d의 모든  \n",
    "value를 출력해 보시오.  \n"
   ]
  },
  {
   "cell_type": "code",
   "execution_count": 56,
   "metadata": {},
   "outputs": [
    {
     "name": "stdout",
     "output_type": "stream",
     "text": [
      "1 2 10 "
     ]
    }
   ],
   "source": [
    "d = {'youn': 1, 'park': 2, 'kim': 10}\n",
    "\n",
    "for item in d:\n",
    "    print(d[item], end=' ')"
   ]
  },
  {
   "cell_type": "code",
   "execution_count": 59,
   "metadata": {},
   "outputs": [
    {
     "name": "stdout",
     "output_type": "stream",
     "text": [
      "1 2 10 "
     ]
    }
   ],
   "source": [
    "for x in d.values():\n",
    "    print(x, end=' ')"
   ]
  },
  {
   "cell_type": "code",
   "execution_count": 61,
   "metadata": {},
   "outputs": [
    {
     "name": "stdout",
     "output_type": "stream",
     "text": [
      "1 2 10 "
     ]
    }
   ],
   "source": [
    "for k,v in d.items():\n",
    "    print(v, end=' ')"
   ]
  },
  {
   "cell_type": "markdown",
   "metadata": {},
   "source": [
    "### 실습3)\n",
    "어떤 문장을 입력 받으면 해당 문장에서 각 알파벳이  \n",
    "몇 개씩 나오는지 저장하는 딕셔너리를 만든 후, 아래와  \n",
    "같이 출력하시오  \n",
    "\n",
    "Enter a sentence: Python is fun!  \n",
    "{'!': 1, ' ': 2, 'f': 1, 'i': 1, 'h': 1, 'o': 1, 'n': 2,  \n",
    "'P': 1, 's': 1, 'u': 1, 't': 1, 'y': 1}  "
   ]
  },
  {
   "cell_type": "code",
   "execution_count": 63,
   "metadata": {},
   "outputs": [
    {
     "name": "stdout",
     "output_type": "stream",
     "text": [
      "Enter a sentence : Python is fun!\n",
      "{'P': 1, 'y': 1, 't': 1, 'h': 1, 'o': 1, 'n': 2, ' ': 2, 'i': 1, 's': 1, 'f': 1, 'u': 1, '!': 1}\n"
     ]
    }
   ],
   "source": [
    "sentence = input('Enter a sentence : ')\n",
    "\n",
    "dictionary = {}\n",
    "\n",
    "for char in sentence:\n",
    "    if char in dictionary:\n",
    "        dictionary[char] += 1\n",
    "    else:\n",
    "        dictionary[char] = 1\n",
    "print(dictionary)"
   ]
  },
  {
   "cell_type": "code",
   "execution_count": 67,
   "metadata": {},
   "outputs": [
    {
     "name": "stdout",
     "output_type": "stream",
     "text": [
      "Enter a sentence : bananananananan\n",
      "{'n': 7, 'b': 1, 'a': 7}\n"
     ]
    }
   ],
   "source": [
    "sentence = input('Enter a sentence : ')\n",
    "\n",
    "dictionary = {}\n",
    "\n",
    "s = set(sentence)\n",
    "\n",
    "for c in s:\n",
    "    dictionary[c] = sentence.count(c)\n",
    "print(dictionary)"
   ]
  },
  {
   "cell_type": "markdown",
   "metadata": {},
   "source": [
    "### 실습2)\n",
    "아래와 같은 딕셔너리가 있다.  \n",
    "{'one':1, 'two':2, 'three':3, 'four':4, 'five':5}  \n",
    "key의 알파벳을 기준으로 순서대로 아래와 같이 (key,\n",
    "value)로 출력하시오.\n",
    "five 5  \n",
    "four 4  \n",
    "one 1  \n",
    "three 3  \n",
    "two 2  "
   ]
  },
  {
   "cell_type": "code",
   "execution_count": 65,
   "metadata": {},
   "outputs": [
    {
     "name": "stdout",
     "output_type": "stream",
     "text": [
      "five 5\n",
      "four 4\n",
      "one 1\n",
      "three 3\n",
      "two 2\n"
     ]
    }
   ],
   "source": [
    "d = {'one':1, 'two':2, 'three':3, 'four':4, 'five':5}\n",
    "\n",
    "key_list = list(d.keys())\n",
    "key_list.sort()\n",
    "\n",
    "for key in key_list:\n",
    "    print(key, d[key])\n"
   ]
  },
  {
   "cell_type": "code",
   "execution_count": 74,
   "metadata": {},
   "outputs": [
    {
     "name": "stdout",
     "output_type": "stream",
     "text": [
      "{'p': 1, 'y': 1, 't': 1, 'h': 1, 'o': 1, 'n': 2, ' ': 2, 'i': 1, 's': 1, 'f': 1, 'u': 1, '!': 1}\n"
     ]
    }
   ],
   "source": [
    "#sen = input('Enter a sentence : ')\n",
    "sen = 'python is fun!'\n",
    "\n",
    "d = dict()\n",
    "\n",
    "for ch in sen:\n",
    "    d[ch] = sen.count(ch)\n",
    "print(d)"
   ]
  },
  {
   "cell_type": "markdown",
   "metadata": {},
   "source": [
    "# 파일"
   ]
  },
  {
   "cell_type": "code",
   "execution_count": 80,
   "metadata": {},
   "outputs": [],
   "source": [
    "fw = open('new.txt', 'w')\n",
    "\n",
    "for i in range(1,6):\n",
    "    data = '%d line\\n' % i\n",
    "    fw.write(data)\n",
    "\n",
    "fw.close()"
   ]
  },
  {
   "cell_type": "code",
   "execution_count": 83,
   "metadata": {},
   "outputs": [
    {
     "name": "stdout",
     "output_type": "stream",
     "text": [
      "7\n",
      "1 line\n",
      "2 line\n"
     ]
    }
   ],
   "source": [
    "fr = open('new.txt', 'r')\n",
    "line = fr.readline()\n",
    "print(fr.tell())\n",
    "print(line, end='')\n",
    "line = fr.readline()\n",
    "print(line, end='')\n",
    "fr.close()"
   ]
  },
  {
   "cell_type": "code",
   "execution_count": 85,
   "metadata": {},
   "outputs": [
    {
     "name": "stdout",
     "output_type": "stream",
     "text": [
      "first 1\n",
      "line 3\n",
      "hello 1\n",
      "world 1\n",
      "second 1\n",
      "third 1\n"
     ]
    }
   ],
   "source": [
    "# 파일-실습1(PPT)\n",
    "#split() white space 단위로 구분\n",
    "#strip() 문자열 양 끝의 white space 제거\n",
    "#replace('s','d') s문자를 d로 대체\n",
    "fr = open('test.txt', 'r')\n",
    "d = {}\n",
    "for line in fr:\n",
    "    words = line.split()\n",
    "    for word in words:\n",
    "        if word in d:\n",
    "            d[word]+=1\n",
    "        else:\n",
    "            d[word]=1\n",
    "fr.close()\n",
    "\n",
    "for k,v in d.items():\n",
    "    print(k,v)"
   ]
  },
  {
   "cell_type": "code",
   "execution_count": null,
   "metadata": {},
   "outputs": [],
   "source": []
  }
 ],
 "metadata": {
  "kernelspec": {
   "display_name": "Python 3",
   "language": "python",
   "name": "python3"
  },
  "language_info": {
   "codemirror_mode": {
    "name": "ipython",
    "version": 3
   },
   "file_extension": ".py",
   "mimetype": "text/x-python",
   "name": "python",
   "nbconvert_exporter": "python",
   "pygments_lexer": "ipython3",
   "version": "3.8.3"
  }
 },
 "nbformat": 4,
 "nbformat_minor": 4
}
