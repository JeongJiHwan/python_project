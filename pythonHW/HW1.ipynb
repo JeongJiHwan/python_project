{
 "cells": [
  {
   "cell_type": "markdown",
   "metadata": {},
   "source": [
    "## #1"
   ]
  },
  {
   "cell_type": "code",
   "execution_count": 1,
   "metadata": {},
   "outputs": [
    {
     "name": "stdout",
     "output_type": "stream",
     "text": [
      "화씨온도 : 100\n",
      "섭씨온도 : 37.78\n"
     ]
    }
   ],
   "source": [
    "F = int(input(\"화씨온도 : \"))\n",
    "C = (F-32)*(5/9)\n",
    "print(\"섭씨온도 : %f\" %C)"
   ]
  },
  {
   "cell_type": "markdown",
   "metadata": {},
   "source": [
    "## #2"
   ]
  },
  {
   "cell_type": "code",
   "execution_count": 1,
   "metadata": {},
   "outputs": [
    {
     "name": "stdout",
     "output_type": "stream",
     "text": [
      "투입한 돈 : 5000\n",
      "물건값 : 2300\n",
      "거스름돈 : 2700\n",
      "500원짜리 : 5개\n",
      "100원짜리 : 2개\n"
     ]
    }
   ],
   "source": [
    "#연습문제 2\n",
    "insert = int(input(\"투입한 돈 : \"))\n",
    "price = int(input(\"물건값 : \"))\n",
    "exchange = insert - price\n",
    "print(\"거스름돈 : %d\" %exchange)\n",
    "\n",
    "fhc = exchange//500\n",
    "exchange -= 500*fhc\n",
    "ohc = exchange//100\n",
    "\n",
    "print(\"500원짜리 : %d개\" %fhc)\n",
    "print(\"100원짜리 : %d개\" %ohc)"
   ]
  },
  {
   "cell_type": "markdown",
   "metadata": {},
   "source": [
    "## #3"
   ]
  },
  {
   "cell_type": "code",
   "execution_count": 6,
   "metadata": {},
   "outputs": [
    {
     "name": "stdout",
     "output_type": "stream",
     "text": [
      "반지름을 입력하세요 : 5\n",
      "원 둘레 : 31.42\n",
      "원 넓이 : 78.54\n"
     ]
    }
   ],
   "source": [
    "pi = 3.141592\n",
    "r = int(input(\"반지름을 입력하세요 : \"))\n",
    "round = 2*pi*r\n",
    "area = pi*r**2\n",
    "print(\"원 둘레 : %.2f\" % round)\n",
    "print(\"원 넓이 : %.2f\" % area)"
   ]
  }
 ],
 "metadata": {
  "kernelspec": {
   "display_name": "Python 3",
   "language": "python",
   "name": "python3"
  },
  "language_info": {
   "codemirror_mode": {
    "name": "ipython",
    "version": 3
   },
   "file_extension": ".py",
   "mimetype": "text/x-python",
   "name": "python",
   "nbconvert_exporter": "python",
   "pygments_lexer": "ipython3",
   "version": "3.8.3"
  }
 },
 "nbformat": 4,
 "nbformat_minor": 4
}
