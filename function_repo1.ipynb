{
 "cells": [
  {
   "cell_type": "markdown",
   "metadata": {},
   "source": [
    "## 과제1 - prime.py"
   ]
  },
  {
   "cell_type": "code",
   "execution_count": 1,
   "metadata": {},
   "outputs": [],
   "source": [
    "import math\n",
    "\n",
    "def check_prime(num):\n",
    "    for i in range(2,int(math.sqrt(num))+1):\n",
    "        if num%i==0:\n",
    "            return False\n",
    "    return True\n",
    "\n",
    "def main():\n",
    "    a = 17\n",
    "    b = 1003\n",
    "    \n",
    "    if check_prime(a):\n",
    "        print('%d is prime number' %a)\n",
    "    else:\n",
    "        print('%d is not prime number' %a)\n",
    "    if check_prime(b):\n",
    "        print('%d is prime number' %b)\n",
    "    else:\n",
    "        print('%d is not prime number' %b)\n",
    "        \n"
   ]
  },
  {
   "cell_type": "code",
   "execution_count": 2,
   "metadata": {},
   "outputs": [
    {
     "name": "stdout",
     "output_type": "stream",
     "text": [
      "17 is prime number\n",
      "1003 is not prime number\n"
     ]
    }
   ],
   "source": [
    "main()"
   ]
  },
  {
   "cell_type": "markdown",
   "metadata": {},
   "source": [
    "## 과제2 - add_comma.py"
   ]
  },
  {
   "cell_type": "code",
   "execution_count": 12,
   "metadata": {},
   "outputs": [],
   "source": [
    "def add_comma(val):\n",
    "    rev = str(val)[::-1]\n",
    "    result = ''\n",
    "    for i in range(0,len(rev)):\n",
    "        if i!=0 and i%3==0:\n",
    "            result += ','\n",
    "        result+=rev[i]\n",
    "    return result[::-1]\n",
    "\n",
    "def main():\n",
    "    comma_added_1234 = add_comma(1234)\n",
    "    comma_added_12345678 = add_comma(12345678)\n",
    "    comma_added_12 = add_comma(12)\n",
    "    \n",
    "    print(comma_added_1234)\n",
    "    print(comma_added_12345678)\n",
    "    print(comma_added_12)\n",
    "    "
   ]
  },
  {
   "cell_type": "code",
   "execution_count": 13,
   "metadata": {},
   "outputs": [
    {
     "name": "stdout",
     "output_type": "stream",
     "text": [
      "1,234\n",
      "12,345,678\n",
      "12\n"
     ]
    }
   ],
   "source": [
    "main()"
   ]
  },
  {
   "cell_type": "markdown",
   "metadata": {},
   "source": [
    "## 과제3 - tok.py"
   ]
  },
  {
   "cell_type": "code",
   "execution_count": 14,
   "metadata": {},
   "outputs": [],
   "source": [
    "def tokenize(trg, N=1):\n",
    "    tokens = trg.split()\n",
    "    result = []\n",
    "    \n",
    "    for i in range(0,len(tokens)-N+1):\n",
    "        tmp = tokens[i]\n",
    "        for j in range(i+1,i+N):\n",
    "            tmp = tmp + ' ' + tokens[j]\n",
    "        result.append(tmp)\n",
    "        #result.append(' '.join(tokens[i:i+N]))\n",
    "    return result\n",
    "\n",
    "def main():\n",
    "    a = 'There was a farmer who had a dog .'\n",
    "    print(tokenize(a))\n",
    "    print(tokenize(a,2))\n",
    "    print(tokenize(a,3))\n",
    "    \n"
   ]
  },
  {
   "cell_type": "code",
   "execution_count": 15,
   "metadata": {},
   "outputs": [
    {
     "name": "stdout",
     "output_type": "stream",
     "text": [
      "['There', 'was', 'a', 'farmer', 'who', 'had', 'a', 'dog', '.']\n",
      "['There was', 'was a', 'a farmer', 'farmer who', 'who had', 'had a', 'a dog', 'dog .']\n",
      "['There was a', 'was a farmer', 'a farmer who', 'farmer who had', 'who had a', 'had a dog', 'a dog .']\n"
     ]
    }
   ],
   "source": [
    "main()"
   ]
  },
  {
   "cell_type": "markdown",
   "metadata": {},
   "source": [
    "## 과제4 - mean_and_var.py"
   ]
  },
  {
   "cell_type": "code",
   "execution_count": 16,
   "metadata": {},
   "outputs": [],
   "source": [
    "def mean_and_var(*val):\n",
    "    mean = []\n",
    "    var = []\n",
    "    \n",
    "    for i in range(0,len(val[0])):\n",
    "        total = 0\n",
    "        for j in range(0,len(val)):\n",
    "            total += val[j][i]\n",
    "        mean.append(total/len(val))\n",
    "        \n",
    "    for i in range(0,len(val[0])):\n",
    "        total = 0\n",
    "        for j in range(0,len(val)):\n",
    "            total += (val[j][i]-mean[i])**2\n",
    "        var.append(float(total/len(val)))\n",
    "        \n",
    "    return mean, var\n",
    "        \n",
    "def main():\n",
    "    v1 = (0,1,1.5)\n",
    "    v2 = (0.5,0.5,0)\n",
    "    v3 = (1,0,0)\n",
    "    \n",
    "    m,var = mean_and_var(v1,v2,v3)\n",
    "    print('평균 : ', m)\n",
    "    print('분산 : ', var)"
   ]
  },
  {
   "cell_type": "code",
   "execution_count": 17,
   "metadata": {},
   "outputs": [
    {
     "name": "stdout",
     "output_type": "stream",
     "text": [
      "평균 :  [0.5, 0.5, 0.5]\n",
      "분산 :  [0.16666666666666666, 0.16666666666666666, 0.5]\n"
     ]
    }
   ],
   "source": [
    "main()"
   ]
  }
 ],
 "metadata": {
  "kernelspec": {
   "display_name": "Python 3",
   "language": "python",
   "name": "python3"
  },
  "language_info": {
   "codemirror_mode": {
    "name": "ipython",
    "version": 3
   },
   "file_extension": ".py",
   "mimetype": "text/x-python",
   "name": "python",
   "nbconvert_exporter": "python",
   "pygments_lexer": "ipython3",
   "version": "3.8.3"
  }
 },
 "nbformat": 4,
 "nbformat_minor": 4
}
