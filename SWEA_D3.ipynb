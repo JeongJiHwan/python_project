{
 "cells": [
  {
   "cell_type": "code",
   "execution_count": null,
   "metadata": {},
   "outputs": [],
   "source": [
    "for tc in range(1,11):\n",
    "    dump = int(input())\n",
    "    ls = list(map(int, input().split()))\n",
    "    \n",
    "    for i in range(dump):\n",
    "        maxval =0\n",
    "        minval = 100\n",
    "        for x in range(100):\n",
    "            if ls[x] > maxval:\n",
    "                maxval = ls[x]\n",
    "                maxidx = x\n",
    "            if ls[x] < minval:\n",
    "                minval = ls[x]\n",
    "                minidx = x\n",
    "        ls[maxidx] += 1\n",
    "        ls[minidx] -= 1\n",
    "        \n",
    "    maxval = 0\n",
    "    minval = 100\n",
    "    for x in range(100):\n",
    "        if ls[x] > maxval:\n",
    "            maxval = ls[x]\n",
    "            maxidx = x\n",
    "        if ls[x] < minval:\n",
    "            minval = ls[x]\n",
    "            minidx = x\n",
    "            \n",
    "    print('#%d %d' %(tc, ls[maxidx]-ls[minidx]))"
   ]
  }
 ],
 "metadata": {
  "kernelspec": {
   "display_name": "Python 3",
   "language": "python",
   "name": "python3"
  },
  "language_info": {
   "codemirror_mode": {
    "name": "ipython",
    "version": 3
   },
   "file_extension": ".py",
   "mimetype": "text/x-python",
   "name": "python",
   "nbconvert_exporter": "python",
   "pygments_lexer": "ipython3",
   "version": "3.8.3"
  }
 },
 "nbformat": 4,
 "nbformat_minor": 4
}
