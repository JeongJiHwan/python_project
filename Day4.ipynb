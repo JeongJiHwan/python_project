{
 "cells": [
  {
   "cell_type": "markdown",
   "metadata": {},
   "source": [
    "## 파일 - 실습2\n",
    "파일명을 입력 받아, 해당 파일을 한 줄씩 읽어 파일의 내용을 모두 대문자로 출력하는 프로그램을 작성하시오."
   ]
  },
  {
   "cell_type": "code",
   "execution_count": 5,
   "metadata": {},
   "outputs": [
    {
     "name": "stdout",
     "output_type": "stream",
     "text": [
      "Enter a file name(*.txt) : test.txt\n",
      "FIRST LINE HELLO WORLD\n",
      "\n",
      "SECOND LINE\n",
      "\n",
      "THIRD LINE\n"
     ]
    }
   ],
   "source": [
    "import os\n",
    "\n",
    "path = input('Enter a file name(*.txt) : ')\n",
    "#path = 'test.txt'\n",
    "\n",
    "if(os.path.exists(path)):\n",
    "    fr = open(path, 'r')\n",
    "    \n",
    "    for line in fr:\n",
    "        print(line.upper())\n",
    "    \n",
    "    fr.close()\n",
    "else:\n",
    "    print('%s does not exist' %path)"
   ]
  },
  {
   "cell_type": "code",
   "execution_count": 2,
   "metadata": {},
   "outputs": [
    {
     "name": "stdout",
     "output_type": "stream",
     "text": [
      "helllo\n"
     ]
    }
   ],
   "source": [
    "with open('test.txt', 'a') as f:\n",
    "    f.write('python is fun!\\n')"
   ]
  },
  {
   "cell_type": "code",
   "execution_count": 3,
   "metadata": {},
   "outputs": [
    {
     "data": {
      "text/plain": [
       "'HELLO'"
      ]
     },
     "execution_count": 3,
     "metadata": {},
     "output_type": "execute_result"
    }
   ],
   "source": [
    "'hello'.upper()"
   ]
  },
  {
   "cell_type": "code",
   "execution_count": 4,
   "metadata": {},
   "outputs": [],
   "source": [
    "#test.txt -> test333.txt copy\n",
    "fr = open('test.txt', 'r')\n",
    "data = fr.read()\n",
    "fr.close()\n",
    "\n",
    "fw = open('test333.txt', 'w')\n",
    "fw.write(data)\n",
    "fw.close()"
   ]
  },
  {
   "cell_type": "code",
   "execution_count": 5,
   "metadata": {},
   "outputs": [],
   "source": [
    "stu_list = [[201801, 84, 73], [201802, 92, 89], [201803, 57, 62], [201804, 58, 68]]"
   ]
  },
  {
   "cell_type": "code",
   "execution_count": 6,
   "metadata": {},
   "outputs": [
    {
     "data": {
      "text/plain": [
       "[[201801, 84, 73], [201802, 92, 89], [201803, 57, 62], [201804, 58, 68]]"
      ]
     },
     "execution_count": 6,
     "metadata": {},
     "output_type": "execute_result"
    }
   ],
   "source": [
    "stu_list"
   ]
  },
  {
   "cell_type": "code",
   "execution_count": 8,
   "metadata": {},
   "outputs": [
    {
     "data": {
      "text/plain": [
       "58"
      ]
     },
     "execution_count": 8,
     "metadata": {},
     "output_type": "execute_result"
    }
   ],
   "source": [
    "stu_list[3][1]"
   ]
  },
  {
   "cell_type": "code",
   "execution_count": 9,
   "metadata": {},
   "outputs": [],
   "source": [
    "stu_list.sort(key=lambda e : e[2], reverse=True)"
   ]
  },
  {
   "cell_type": "code",
   "execution_count": 10,
   "metadata": {},
   "outputs": [
    {
     "data": {
      "text/plain": [
       "[[201802, 92, 89], [201801, 84, 73], [201804, 58, 68], [201803, 57, 62]]"
      ]
     },
     "execution_count": 10,
     "metadata": {},
     "output_type": "execute_result"
    }
   ],
   "source": [
    "stu_list"
   ]
  },
  {
   "cell_type": "markdown",
   "metadata": {},
   "source": [
    "# 함수"
   ]
  },
  {
   "cell_type": "code",
   "execution_count": 12,
   "metadata": {},
   "outputs": [
    {
     "name": "stdout",
     "output_type": "stream",
     "text": [
      "6 6\n",
      "14 14\n"
     ]
    }
   ],
   "source": [
    "def my_len(l):\n",
    "    length = 0\n",
    "    for i in l:\n",
    "        length += 1\n",
    "    return length\n",
    "\n",
    "a = [5,5,6,7,8,3]\n",
    "b = 'Life is short.'\n",
    "\n",
    "print(my_len(a), len(a))\n",
    "\n",
    "print(my_len(b), len(b))"
   ]
  },
  {
   "cell_type": "code",
   "execution_count": null,
   "metadata": {},
   "outputs": [],
   "source": [
    "#실습문제 1\n",
    "def add(a,b):\n",
    "    return a+b\n",
    "def sub(a,b):\n",
    "    return a-b\n",
    "def mul(a,b):\n",
    "    return a*b\n",
    "def div(a,b):\n",
    "    return a/b\n",
    "\n",
    "a=1\n",
    "b=2\n",
    "\n",
    "c = add(a,b)\n",
    "d = sub(a,b)\n",
    "e = mul(a,b)\n",
    "f = div(a,b)\n",
    "\n",
    "print(c,d,e,f)"
   ]
  },
  {
   "cell_type": "code",
   "execution_count": 18,
   "metadata": {},
   "outputs": [
    {
     "name": "stdout",
     "output_type": "stream",
     "text": [
      "(1, 2, 3, 4, 5)\n",
      "<class 'tuple'>\n"
     ]
    },
    {
     "data": {
      "text/plain": [
       "2"
      ]
     },
     "execution_count": 18,
     "metadata": {},
     "output_type": "execute_result"
    }
   ],
   "source": [
    "def count_even(*n):\n",
    "    print(n)\n",
    "    print(type(n))\n",
    "    cnt = 0\n",
    "    for v in n:\n",
    "        if v % 2 == 0:\n",
    "            cnt += 1\n",
    "    return cnt\n",
    "\n",
    "count_even(1,2,3,4,5)"
   ]
  },
  {
   "cell_type": "code",
   "execution_count": 39,
   "metadata": {},
   "outputs": [
    {
     "ename": "UnboundLocalError",
     "evalue": "local variable 'x' referenced before assignment",
     "output_type": "error",
     "traceback": [
      "\u001b[0;31m---------------------------------------------------------------------------\u001b[0m",
      "\u001b[0;31mUnboundLocalError\u001b[0m                         Traceback (most recent call last)",
      "\u001b[0;32m<ipython-input-39-da6edb050b0e>\u001b[0m in \u001b[0;36m<module>\u001b[0;34m\u001b[0m\n\u001b[1;32m      5\u001b[0m \u001b[0mx\u001b[0m \u001b[0;34m=\u001b[0m \u001b[0;36m10\u001b[0m\u001b[0;34m\u001b[0m\u001b[0;34m\u001b[0m\u001b[0m\n\u001b[1;32m      6\u001b[0m \u001b[0my\u001b[0m \u001b[0;34m=\u001b[0m \u001b[0;36m20\u001b[0m\u001b[0;34m\u001b[0m\u001b[0;34m\u001b[0m\u001b[0m\n\u001b[0;32m----> 7\u001b[0;31m \u001b[0mres\u001b[0m \u001b[0;34m=\u001b[0m \u001b[0maddX\u001b[0m\u001b[0;34m(\u001b[0m\u001b[0my\u001b[0m\u001b[0;34m)\u001b[0m\u001b[0;34m\u001b[0m\u001b[0;34m\u001b[0m\u001b[0m\n\u001b[0m\u001b[1;32m      8\u001b[0m \u001b[0mprint\u001b[0m\u001b[0;34m(\u001b[0m\u001b[0mres\u001b[0m\u001b[0;34m)\u001b[0m\u001b[0;34m\u001b[0m\u001b[0;34m\u001b[0m\u001b[0m\n\u001b[1;32m      9\u001b[0m \u001b[0mprint\u001b[0m\u001b[0;34m(\u001b[0m\u001b[0mx\u001b[0m\u001b[0;34m)\u001b[0m\u001b[0;34m\u001b[0m\u001b[0;34m\u001b[0m\u001b[0m\n",
      "\u001b[0;32m<ipython-input-39-da6edb050b0e>\u001b[0m in \u001b[0;36maddX\u001b[0;34m(_x)\u001b[0m\n\u001b[1;32m      1\u001b[0m \u001b[0;32mdef\u001b[0m \u001b[0maddX\u001b[0m\u001b[0;34m(\u001b[0m\u001b[0m_x\u001b[0m\u001b[0;34m)\u001b[0m\u001b[0;34m:\u001b[0m\u001b[0;34m\u001b[0m\u001b[0;34m\u001b[0m\u001b[0m\n\u001b[0;32m----> 2\u001b[0;31m     \u001b[0mx\u001b[0m \u001b[0;34m+=\u001b[0m \u001b[0m_x\u001b[0m\u001b[0;34m\u001b[0m\u001b[0;34m\u001b[0m\u001b[0m\n\u001b[0m\u001b[1;32m      3\u001b[0m     \u001b[0;32mreturn\u001b[0m \u001b[0mx\u001b[0m\u001b[0;34m+\u001b[0m\u001b[0m_x\u001b[0m\u001b[0;34m\u001b[0m\u001b[0;34m\u001b[0m\u001b[0m\n\u001b[1;32m      4\u001b[0m \u001b[0;34m\u001b[0m\u001b[0m\n\u001b[1;32m      5\u001b[0m \u001b[0mx\u001b[0m \u001b[0;34m=\u001b[0m \u001b[0;36m10\u001b[0m\u001b[0;34m\u001b[0m\u001b[0;34m\u001b[0m\u001b[0m\n",
      "\u001b[0;31mUnboundLocalError\u001b[0m: local variable 'x' referenced before assignment"
     ]
    }
   ],
   "source": [
    "def addX(_x):\n",
    "    x += _x\n",
    "    return x+_x\n",
    "\n",
    "x = 10\n",
    "y = 20\n",
    "res = addX(y)\n",
    "print(res)\n",
    "print(x)"
   ]
  },
  {
   "cell_type": "code",
   "execution_count": 38,
   "metadata": {},
   "outputs": [
    {
     "data": {
      "text/plain": [
       "6"
      ]
     },
     "execution_count": 38,
     "metadata": {},
     "output_type": "execute_result"
    }
   ],
   "source": [
    "#실습문제 2\n",
    "def factorial(n):\n",
    "    total = 1\n",
    "    for i in range(2,n+1):\n",
    "        total*=i\n",
    "    return total\n",
    "\n",
    "factorial(3)"
   ]
  },
  {
   "cell_type": "code",
   "execution_count": 40,
   "metadata": {},
   "outputs": [
    {
     "data": {
      "text/plain": [
       "625"
      ]
     },
     "execution_count": 40,
     "metadata": {},
     "output_type": "execute_result"
    }
   ],
   "source": [
    "#실습문제 3\n",
    "def pow(n,a):\n",
    "    return n**a\n",
    "\n",
    "pow(5,4)"
   ]
  },
  {
   "cell_type": "code",
   "execution_count": 41,
   "metadata": {},
   "outputs": [
    {
     "data": {
      "text/plain": [
       "60"
      ]
     },
     "execution_count": 41,
     "metadata": {},
     "output_type": "execute_result"
    }
   ],
   "source": [
    "def calc(x,y,z):\n",
    "    return x+y+z\n",
    "\n",
    "x=10\n",
    "y=20\n",
    "z=30\n",
    "\n",
    "calc(x=x, y=y, z=z)"
   ]
  },
  {
   "cell_type": "markdown",
   "metadata": {},
   "source": [
    "### 실습문제 4\n",
    "초를 전달받아 시간, 분, 초를 반환하는 함수를 작성하시오"
   ]
  },
  {
   "cell_type": "code",
   "execution_count": 42,
   "metadata": {},
   "outputs": [
    {
     "name": "stdout",
     "output_type": "stream",
     "text": [
      "16시간 4분 54초\n"
     ]
    }
   ],
   "source": [
    "def hour_min_sec(sec):\n",
    "    hour = sec//3600\n",
    "    sec%=3600\n",
    "    _min = sec//60\n",
    "    sec %= 60\n",
    "    return hour, _min, sec\n",
    "\n",
    "hour, _min, sec = hour_min_sec(57894)\n",
    "print('%d시간 %d분 %d초' %(hour, _min, sec))"
   ]
  },
  {
   "cell_type": "markdown",
   "metadata": {},
   "source": [
    "### 실습문제 5\n",
    "숫자로 구성된 리스트를 전달받아 최대값, 최소값을 반환하고, 두\n",
    "수를 리스트에서 제거하는 함수를 작성하시오"
   ]
  },
  {
   "cell_type": "code",
   "execution_count": 1,
   "metadata": {},
   "outputs": [
    {
     "name": "stdout",
     "output_type": "stream",
     "text": [
      "-2\n",
      "10\n",
      "[3, 5, 9, 1, 2, 4]\n"
     ]
    }
   ],
   "source": [
    "def get_min_max(l):\n",
    "    _min = _max = l[0]\n",
    "    \n",
    "    for i in l:\n",
    "        if i>_max:\n",
    "            _max = i\n",
    "        if i<_min:\n",
    "            _min = i\n",
    "    l.remove(_min)\n",
    "    l.remove(_max)\n",
    "    \n",
    "    return _min, _max\n",
    "\n",
    "l = [3,5,9,1,2,10,4,-2]\n",
    "_min, _max = get_min_max(l)\n",
    "\n",
    "print(_min)\n",
    "print(_max)\n",
    "print(l)"
   ]
  },
  {
   "cell_type": "markdown",
   "metadata": {},
   "source": [
    "### 실습문제 6\n",
    "로또 추첨 프로그램  \n",
    " 1~45 숫자 중 6개를 임의로 선택 후 출력  \n",
    " 단, 중복된 번호를 가질 수 없음  "
   ]
  },
  {
   "cell_type": "code",
   "execution_count": 1,
   "metadata": {},
   "outputs": [
    {
     "name": "stdout",
     "output_type": "stream",
     "text": [
      "** 로또 추첨을 시작합니다.**\n",
      "추첨된 로또 번호 ==> [9, 14, 10, 7, 33, 1]\n"
     ]
    }
   ],
   "source": [
    "import random\n",
    "\n",
    "def lotto():\n",
    "    return random.sample(range(1,46),6)\n",
    "\n",
    "print('** 로또 추첨을 시작합니다.**')\n",
    "print('추첨된 로또 번호 ==> %s' %lotto())"
   ]
  },
  {
   "cell_type": "code",
   "execution_count": 12,
   "metadata": {},
   "outputs": [
    {
     "name": "stdout",
     "output_type": "stream",
     "text": [
      "[3, 21, 16, 19, 17, 38]\n"
     ]
    }
   ],
   "source": [
    "ls = [i for i in range(1,46)]\n",
    "\n",
    "def lotto():\n",
    "    random.shuffle(ls)\n",
    "    return ls[:6]\n",
    "\n",
    "print(lotto())"
   ]
  },
  {
   "cell_type": "markdown",
   "metadata": {},
   "source": [
    "### 실습문제 8\n",
    "1. 전달받은 문장에서 각 알파벳이 몇 개씩 나오는지 저장하는 딕셔너리를 만든\n",
    "후, 반환하는 함수 letter_dict()를 작성하시오.\n",
    "2. letter_dict() 함수를 통해 생성된 딕셔너리에서 가장 많이 등장한 알파벳을\n",
    "찾아 반환하는 함수를 작성하시오. (여러 개일 경우 아무 값이나 하나만 반환)"
   ]
  },
  {
   "cell_type": "code",
   "execution_count": 3,
   "metadata": {},
   "outputs": [
    {
     "name": "stdout",
     "output_type": "stream",
     "text": [
      "{'r': 1, 'e': 2, 'd': 1, ' ': 1, 'a': 1, 'p': 2, 'l': 1}\n",
      "e\n"
     ]
    }
   ],
   "source": [
    "def letter_dict(mystr):\n",
    "    result = {}\n",
    "    for i in mystr:\n",
    "        if i in result:\n",
    "            result[i] += 1\n",
    "        else:\n",
    "            result[i] = 1\n",
    "    return result\n",
    "\n",
    "def max_letter(mydict):\n",
    "    maxval = -1\n",
    "    result = ''\n",
    "    #maxval = max(mydict.values())\n",
    "    for k,v in mydict.items():\n",
    "        #if v==maxval:\n",
    "        #    return k\n",
    "        if v>maxval:\n",
    "            maxval = v\n",
    "            result = k\n",
    "    return result\n",
    "\n",
    "a = letter_dict('red apple')\n",
    "print(a)\n",
    "print(max_letter(a))"
   ]
  },
  {
   "cell_type": "markdown",
   "metadata": {},
   "source": [
    "### 실습문제 9\n",
    "1. letter_dict() 함수에 'yellow banana'를 전달하여 새로운 딕셔너리 b\n",
    "를 생성한다.\n",
    "2. 두 딕셔너리 a, b를 전달받아 각 딕셔너리에 등장한 값을 모두 더한 새로운\n",
    "딕셔너리 c를 반환하는 함수 comb_dict()를 작성하시오."
   ]
  },
  {
   "cell_type": "code",
   "execution_count": 4,
   "metadata": {},
   "outputs": [
    {
     "name": "stdout",
     "output_type": "stream",
     "text": [
      "{'r': 1, 'e': 3, 'd': 1, ' ': 2, 'a': 4, 'p': 2, 'l': 3, 'y': 1, 'o': 1, 'w': 1, 'b': 1, 'n': 2}\n",
      "a\n"
     ]
    }
   ],
   "source": [
    "def comb_dict(dict1, dict2):\n",
    "    result = {k:v for k,v in dict1.items()}\n",
    "    \n",
    "    for k,v in dict2.items():\n",
    "        if k in result:\n",
    "            result[k] += v\n",
    "        else:\n",
    "            result[k] = v\n",
    "    \n",
    "    return result\n",
    "\n",
    "b = letter_dict('yellow banana')\n",
    "c = comb_dict(a,b)\n",
    "\n",
    "print(c)\n",
    "print(max_letter(c))"
   ]
  },
  {
   "cell_type": "code",
   "execution_count": null,
   "metadata": {},
   "outputs": [],
   "source": []
  }
 ],
 "metadata": {
  "kernelspec": {
   "display_name": "Python 3",
   "language": "python",
   "name": "python3"
  },
  "language_info": {
   "codemirror_mode": {
    "name": "ipython",
    "version": 3
   },
   "file_extension": ".py",
   "mimetype": "text/x-python",
   "name": "python",
   "nbconvert_exporter": "python",
   "pygments_lexer": "ipython3",
   "version": "3.8.3"
  }
 },
 "nbformat": 4,
 "nbformat_minor": 4
}
