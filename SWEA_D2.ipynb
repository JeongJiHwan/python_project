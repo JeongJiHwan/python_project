{
 "cells": [
  {
   "cell_type": "code",
   "execution_count": null,
   "metadata": {},
   "outputs": [],
   "source": [
    "# 1983. 조교의 성적 매기기\n",
    "grade = ['A+', 'A0', 'A-', 'B+', 'B0', 'B-', 'C+', 'C0', 'C-', 'D0']\n",
    "\n",
    "T = int(input())\n",
    "\n",
    "for tc in range(1,T+1):\n",
    "    N, K = map(int, input().split())\n",
    "    ls = []\n",
    "    rank=[[],[],[],[],[],[],[],[],[],[]]\n",
    "    for i in range(1, N+1):\n",
    "        mid, fin, pro = map(int, input().split())\n",
    "        total = 0.35*mid + 0.45*fin + 0.2*pro\n",
    "        ls.append([total, i])\n",
    "    \n",
    "    ls.sort(reverse=True)\n",
    "    #print(ls)\n",
    "    for stu in ls:\n",
    "        for i in range(10):\n",
    "            if len(rank[i])<N//10:\n",
    "                rank[i].append(stu)\n",
    "                break\n",
    "                \n",
    "    for i in range(len(rank)):\n",
    "        for stu in rank[i]:\n",
    "            if k in stu:\n",
    "                print('#%d %s', grade[i])\n",
    "                break\n"
   ]
  }
 ],
 "metadata": {
  "kernelspec": {
   "display_name": "Python 3",
   "language": "python",
   "name": "python3"
  },
  "language_info": {
   "codemirror_mode": {
    "name": "ipython",
    "version": 3
   },
   "file_extension": ".py",
   "mimetype": "text/x-python",
   "name": "python",
   "nbconvert_exporter": "python",
   "pygments_lexer": "ipython3",
   "version": "3.8.3"
  }
 },
 "nbformat": 4,
 "nbformat_minor": 4
}
