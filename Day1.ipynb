{
 "cells": [
  {
   "cell_type": "markdown",
   "metadata": {},
   "source": [
    "## 1.변수"
   ]
  },
  {
   "cell_type": "code",
   "execution_count": 2,
   "metadata": {},
   "outputs": [
    {
     "name": "stdout",
     "output_type": "stream",
     "text": [
      "5 * 8 = 40\n"
     ]
    }
   ],
   "source": [
    "#실습 1)\n",
    "a = 5\n",
    "b = 8\n",
    "result = a*b\n",
    "\n",
    "print(a, \"*\", b, \"=\", result)"
   ]
  },
  {
   "cell_type": "code",
   "execution_count": 4,
   "metadata": {},
   "outputs": [
    {
     "name": "stdout",
     "output_type": "stream",
     "text": [
      "Before - x: 10 , y:  20\n",
      "After - x:  20 , y:  10\n"
     ]
    }
   ],
   "source": [
    "#실습 2)\n",
    "x = 10\n",
    "y = 20\n",
    "\n",
    "print(\"Before - x:\", x, \", y: \", y)\n",
    "\n",
    "z = x\n",
    "x = y\n",
    "y = z\n",
    "\n",
    "print(\"After - x: \", x, \", y: \", y)"
   ]
  },
  {
   "cell_type": "markdown",
   "metadata": {},
   "source": [
    "## 2.문자열"
   ]
  },
  {
   "cell_type": "code",
   "execution_count": 5,
   "metadata": {},
   "outputs": [
    {
     "name": "stdout",
     "output_type": "stream",
     "text": [
      "200300\n",
      "500\n"
     ]
    }
   ],
   "source": [
    "a = 100\n",
    "s1 = '200'\n",
    "s2 = '300'\n",
    "\n",
    "print(s1 + s2)\n",
    "\n",
    "print(int(s1)+int(s2))"
   ]
  },
  {
   "cell_type": "code",
   "execution_count": 7,
   "metadata": {},
   "outputs": [
    {
     "name": "stdout",
     "output_type": "stream",
     "text": [
      "수학 점수는 90 점 이다.\n"
     ]
    }
   ],
   "source": [
    "#실습 1)\n",
    "print(\"수학 점수는\", 90, \"점 이다.\")"
   ]
  },
  {
   "cell_type": "code",
   "execution_count": 8,
   "metadata": {},
   "outputs": [
    {
     "name": "stdout",
     "output_type": "stream",
     "text": [
      "lifeistoo short\n",
      "pythonpythonpython\n",
      "I eat 3 apples.\n",
      "I ate 10 apples, so I was sick for three days.\n",
      "I ate 3 apples.\n"
     ]
    }
   ],
   "source": [
    "#문자열 합치기 +\n",
    "print(\"life\" + \"is\" + \"too short\")\n",
    "\n",
    "#문자열 곱하기 *\n",
    "print(\"python\" * 3)\n",
    "\n",
    "#문자열 내에 변수의 값을 출력하고 싶으면 %\n",
    "print(\"I eat %d apples.\" % 3)\n",
    "\n",
    "number = 10\n",
    "day = \"three\"\n",
    "print(\"I ate %d apples, so I was sick for %s days.\" % (number, day))\n",
    "\n",
    "# %s 는 어떤 형태든 대입 가능\n",
    "print(\"I ate %s apples.\" % 3)"
   ]
  },
  {
   "cell_type": "code",
   "execution_count": 9,
   "metadata": {},
   "outputs": [
    {
     "name": "stdout",
     "output_type": "stream",
     "text": [
      "상품의 가격 입력 : 10000\n",
      "상품의 가격은 10000원입니다.\n"
     ]
    }
   ],
   "source": [
    "price = int(input(\"상품의 가격 입력 : \"))\n",
    "print(\"상품의 가격은 %d원입니다.\" % price)"
   ]
  },
  {
   "cell_type": "code",
   "execution_count": 10,
   "metadata": {},
   "outputs": [
    {
     "data": {
      "text/plain": [
       "6"
      ]
     },
     "execution_count": 10,
     "metadata": {},
     "output_type": "execute_result"
    }
   ],
   "source": [
    "#문자열 길이 구하기 len()\n",
    "s = 'python'\n",
    "len(s)"
   ]
  },
  {
   "cell_type": "code",
   "execution_count": 13,
   "metadata": {},
   "outputs": [
    {
     "name": "stdout",
     "output_type": "stream",
     "text": [
      "red banana\n",
      "yellow apple\n"
     ]
    }
   ],
   "source": [
    "#문자열 Indexing, Slicing\n",
    "s = 'Mission Impossible'\n",
    "s[10:13]\n",
    "\n",
    "s1 = 'red apple'\n",
    "s2 = 'yellow banana'\n",
    "\n",
    "s3 = s1[:4] + s2[7:]\n",
    "print(s3)\n",
    "\n",
    "s4 = s2[:7] + s1[-5:]\n",
    "print(s4)"
   ]
  },
  {
   "cell_type": "markdown",
   "metadata": {},
   "source": [
    "## 연습문제"
   ]
  },
  {
   "cell_type": "code",
   "execution_count": 14,
   "metadata": {},
   "outputs": [
    {
     "name": "stdout",
     "output_type": "stream",
     "text": [
      "화씨온도 : 100\n",
      "섭씨온도 : 37.7778\n"
     ]
    }
   ],
   "source": [
    "#연습문제 1\n",
    "F = int(input(\"화씨온도 : \"))\n",
    "C = (F-32)*(5/9)\n",
    "print(\"섭씨온도 : %.4f\" % C)"
   ]
  },
  {
   "cell_type": "code",
   "execution_count": 15,
   "metadata": {},
   "outputs": [
    {
     "name": "stdout",
     "output_type": "stream",
     "text": [
      "투입한 돈 : 5000\n",
      "물건값 : 2700\n",
      "거스름돈 : 2300\n",
      "500원짜리 : 4개\n",
      "100원짜리 : 3개\n"
     ]
    }
   ],
   "source": [
    "#연습문제 2\n",
    "insert = int(input(\"투입한 돈 : \"))\n",
    "price = int(input(\"물건값 : \"))\n",
    "exchange = insert - price\n",
    "print(\"거스름돈 : %d\" %exchange)\n",
    "\n",
    "fhc = exchange//500\n",
    "exchange -= 500*fhc\n",
    "ohc = exchange//100\n",
    "\n",
    "print(\"500원짜리 : %d개\" %fhc)\n",
    "print(\"100원짜리 : %d개\" %ohc)"
   ]
  },
  {
   "cell_type": "code",
   "execution_count": 16,
   "metadata": {},
   "outputs": [
    {
     "name": "stdout",
     "output_type": "stream",
     "text": [
      "반지름을 입력하시오 : 5\n",
      "원 둘레 : 31.42\n",
      "원 넓이 : 78.54\n"
     ]
    }
   ],
   "source": [
    "#연습문제 3\n",
    "pi = 3.141592\n",
    "r = int(input('반지름을 입력하시오 : '))\n",
    "round = 2*pi*r\n",
    "area = pi*r**2\n",
    "\n",
    "print(\"원 둘레 : %.2f\" % round)\n",
    "print(\"원 넓이 : %.2f\" % area)"
   ]
  },
  {
   "cell_type": "code",
   "execution_count": 18,
   "metadata": {},
   "outputs": [
    {
     "name": "stdout",
     "output_type": "stream",
     "text": [
      "Enter two integers : 8 5\n",
      "8 + 5 = 13\n",
      "8 - 5 = 3\n",
      "8 * 5 = 40\n",
      "8 / 5 = 1.6\n",
      "8 % 5 = 3\n"
     ]
    }
   ],
   "source": [
    "#연습문제 4\n",
    "numbers = input('Enter two integers : ')\n",
    "x, y = numbers.split(' ')\n",
    "print(x, '+', y, '=', int(x)+int(y))\n",
    "print(x, '-', y, '=', int(x)-int(y))\n",
    "print(x, '*', y, '=', int(x)*int(y))\n",
    "print(x, '/', y, '=', int(x)/int(y))\n",
    "print(x, '%', y, '=', int(x)%int(y))"
   ]
  },
  {
   "cell_type": "code",
   "execution_count": 23,
   "metadata": {},
   "outputs": [
    {
     "name": "stdout",
     "output_type": "stream",
     "text": [
      "Enter two integers : 70 91\n",
      "The sum of 70 and 91 is 161\n",
      "The average of numbers is 80.5\n"
     ]
    }
   ],
   "source": [
    "#연습문제 5\n",
    "numbers = input('Enter two integers : ')\n",
    "x, y = numbers.split(' ')\n",
    "sum = int(x) + int(y)\n",
    "average = sum/2\n",
    "print(\"The sum of %d and %d is %d\" % (int(x), int(y), sum))\n",
    "print(\"The average of numbers is %.1f\" % average)"
   ]
  },
  {
   "cell_type": "code",
   "execution_count": 25,
   "metadata": {},
   "outputs": [
    {
     "name": "stdout",
     "output_type": "stream",
     "text": [
      "날짜(연/월/일) 입력 : 2020/07/28\n",
      "입력한 날짜의 10년 후는 2030년 7월 28일\n"
     ]
    }
   ],
   "source": [
    "#연습문제 6\n",
    "date = input('날짜(연/월/일) 입력 : ')\n",
    "year, month, day = date.split('/')\n",
    "\n",
    "year = int(year) + 10\n",
    "month = int(month)\n",
    "day = int(day)\n",
    "\n",
    "print(\"입력한 날짜의 10년 후는 %d년 %d월 %d일\" % (year, month, day))"
   ]
  },
  {
   "cell_type": "markdown",
   "metadata": {},
   "source": [
    "## 5.문자열 함수"
   ]
  },
  {
   "cell_type": "code",
   "execution_count": 42,
   "metadata": {},
   "outputs": [
    {
     "name": "stdout",
     "output_type": "stream",
     "text": [
      "Python is fun!\n",
      "PYTHON IS FUN!\n",
      "python is fun!\n",
      "pYTHON IS FUN!\n",
      "Python Is Fun!\n"
     ]
    }
   ],
   "source": [
    "s = 'Python is fun!'\n",
    "print(s)\n",
    "\n",
    "print(s.upper())\n",
    "\n",
    "print(s.lower())\n",
    "\n",
    "print(s.swapcase())\n",
    "\n",
    "print(s.title())"
   ]
  },
  {
   "cell_type": "code",
   "execution_count": 26,
   "metadata": {},
   "outputs": [
    {
     "data": {
      "text/plain": [
       "range(0, 5)"
      ]
     },
     "execution_count": 26,
     "metadata": {},
     "output_type": "execute_result"
    }
   ],
   "source": [
    "range(5)"
   ]
  },
  {
   "cell_type": "code",
   "execution_count": 27,
   "metadata": {},
   "outputs": [
    {
     "data": {
      "text/plain": [
       "range(1, 7, 2)"
      ]
     },
     "execution_count": 27,
     "metadata": {},
     "output_type": "execute_result"
    }
   ],
   "source": [
    "range(1,7,2)"
   ]
  },
  {
   "cell_type": "code",
   "execution_count": 29,
   "metadata": {},
   "outputs": [
    {
     "data": {
      "text/plain": [
       "[0, 1, 2, 3, 4]"
      ]
     },
     "execution_count": 29,
     "metadata": {},
     "output_type": "execute_result"
    }
   ],
   "source": [
    "list(range(5))"
   ]
  },
  {
   "cell_type": "code",
   "execution_count": 33,
   "metadata": {},
   "outputs": [
    {
     "data": {
      "text/plain": [
       "[1, 2, 3, 4, 5, 6, 7, 8, 9, 10]"
      ]
     },
     "execution_count": 33,
     "metadata": {},
     "output_type": "execute_result"
    }
   ],
   "source": [
    "list(range(1, 11))"
   ]
  },
  {
   "cell_type": "code",
   "execution_count": 34,
   "metadata": {},
   "outputs": [
    {
     "data": {
      "text/plain": [
       "[10, 9, 8, 7, 6, 5, 4, 3, 2, 1]"
      ]
     },
     "execution_count": 34,
     "metadata": {},
     "output_type": "execute_result"
    }
   ],
   "source": [
    "list(range(10,0,-1))"
   ]
  },
  {
   "cell_type": "code",
   "execution_count": 36,
   "metadata": {},
   "outputs": [
    {
     "data": {
      "text/plain": [
       "[2, 4, 6, 8, 10]"
      ]
     },
     "execution_count": 36,
     "metadata": {},
     "output_type": "execute_result"
    }
   ],
   "source": [
    "even_list = list(range(2,11,2))\n",
    "even_list"
   ]
  },
  {
   "cell_type": "code",
   "execution_count": 38,
   "metadata": {},
   "outputs": [
    {
     "data": {
      "text/plain": [
       "[1, 3, 5, 7, 9]"
      ]
     },
     "execution_count": 38,
     "metadata": {},
     "output_type": "execute_result"
    }
   ],
   "source": [
    "odd_list = list(range(1,10,2))\n",
    "odd_list"
   ]
  },
  {
   "cell_type": "code",
   "execution_count": 39,
   "metadata": {},
   "outputs": [
    {
     "data": {
      "text/plain": [
       "[2, 4, 6, 8, 10, 1, 3, 5, 7, 9]"
      ]
     },
     "execution_count": 39,
     "metadata": {},
     "output_type": "execute_result"
    }
   ],
   "source": [
    "even_list + odd_list"
   ]
  }
 ],
 "metadata": {
  "kernelspec": {
   "display_name": "Python 3",
   "language": "python",
   "name": "python3"
  },
  "language_info": {
   "codemirror_mode": {
    "name": "ipython",
    "version": 3
   },
   "file_extension": ".py",
   "mimetype": "text/x-python",
   "name": "python",
   "nbconvert_exporter": "python",
   "pygments_lexer": "ipython3",
   "version": "3.8.3"
  }
 },
 "nbformat": 4,
 "nbformat_minor": 4
}
